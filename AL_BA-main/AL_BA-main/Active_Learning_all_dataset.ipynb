{
  "nbformat": 4,
  "nbformat_minor": 0,
  "metadata": {
    "colab": {
      "provenance": []
    },
    "kernelspec": {
      "name": "python3",
      "display_name": "Python 3"
    },
    "language_info": {
      "name": "python"
    }
  },
  "cells": [
    {
      "cell_type": "markdown",
      "source": [
        "# What is this noetbook?\n",
        "This notebook contains working of GP with AL on all Dataset."
      ],
      "metadata": {
        "id": "OukI8yolEyq0"
      }
    },
    {
      "cell_type": "markdown",
      "metadata": {
        "id": "My10Hi8NlnMv"
      },
      "source": [
        "# **Correct AL model** ✅"
      ]
    },
    {
      "cell_type": "markdown",
      "metadata": {
        "id": "8yC65AkIlx9g"
      },
      "source": [
        "## Step 1: Data Preparation ✅\n"
      ]
    },
    {
      "cell_type": "markdown",
      "metadata": {
        "id": "X-D7X3KR6p2g"
      },
      "source": [
        "### Installation\n"
      ]
    },
    {
      "cell_type": "code",
      "execution_count": null,
      "metadata": {
        "colab": {
          "base_uri": "https://localhost:8080/"
        },
        "collapsed": true,
        "id": "mGGY4z_E6eZ8",
        "outputId": "b380b8b2-4fdb-49c3-c018-ca62d6452488"
      },
      "outputs": [
        {
          "output_type": "stream",
          "name": "stdout",
          "text": [
            "Collecting useful_rdkit_utils\n",
            "  Downloading useful_rdkit_utils-0.3.12-py3-none-any.whl (1.1 MB)\n",
            "\u001b[2K     \u001b[90m━━━━━━━━━━━━━━━━━━━━━━━━━━━━━━━━━━━━━━━━\u001b[0m \u001b[32m1.1/1.1 MB\u001b[0m \u001b[31m4.9 MB/s\u001b[0m eta \u001b[36m0:00:00\u001b[0m\n",
            "\u001b[?25hRequirement already satisfied: tqdm in /usr/local/lib/python3.10/dist-packages (4.66.4)\n",
            "Requirement already satisfied: scikit-learn in /usr/local/lib/python3.10/dist-packages (1.2.2)\n",
            "Collecting modAL-python>=0.4.1\n",
            "  Downloading modAL_python-0.4.2.1-py3-none-any.whl (32 kB)\n",
            "Requirement already satisfied: numpy in /usr/local/lib/python3.10/dist-packages (from useful_rdkit_utils) (1.25.2)\n",
            "Requirement already satisfied: pandas in /usr/local/lib/python3.10/dist-packages (from useful_rdkit_utils) (2.0.3)\n",
            "Requirement already satisfied: pyarrow in /usr/local/lib/python3.10/dist-packages (from useful_rdkit_utils) (14.0.2)\n",
            "Collecting pystow (from useful_rdkit_utils)\n",
            "  Downloading pystow-0.5.4-py3-none-any.whl (32 kB)\n",
            "Collecting rdkit (from useful_rdkit_utils)\n",
            "  Downloading rdkit-2023.9.6-cp310-cp310-manylinux_2_17_x86_64.manylinux2014_x86_64.whl (34.9 MB)\n",
            "\u001b[2K     \u001b[90m━━━━━━━━━━━━━━━━━━━━━━━━━━━━━━━━━━━━━━━━\u001b[0m \u001b[32m34.9/34.9 MB\u001b[0m \u001b[31m14.7 MB/s\u001b[0m eta \u001b[36m0:00:00\u001b[0m\n",
            "\u001b[?25hRequirement already satisfied: scipy>=1.3.2 in /usr/local/lib/python3.10/dist-packages (from scikit-learn) (1.11.4)\n",
            "Requirement already satisfied: joblib>=1.1.1 in /usr/local/lib/python3.10/dist-packages (from scikit-learn) (1.4.2)\n",
            "Requirement already satisfied: threadpoolctl>=2.0.0 in /usr/local/lib/python3.10/dist-packages (from scikit-learn) (3.5.0)\n",
            "Collecting skorch==0.9.0 (from modAL-python>=0.4.1)\n",
            "  Downloading skorch-0.9.0-py3-none-any.whl (125 kB)\n",
            "\u001b[2K     \u001b[90m━━━━━━━━━━━━━━━━━━━━━━━━━━━━━━━━━━━━━━━━\u001b[0m \u001b[32m125.8/125.8 kB\u001b[0m \u001b[31m11.0 MB/s\u001b[0m eta \u001b[36m0:00:00\u001b[0m\n",
            "\u001b[?25hRequirement already satisfied: tabulate>=0.7.7 in /usr/local/lib/python3.10/dist-packages (from skorch==0.9.0->modAL-python>=0.4.1) (0.9.0)\n",
            "Requirement already satisfied: python-dateutil>=2.8.2 in /usr/local/lib/python3.10/dist-packages (from pandas->useful_rdkit_utils) (2.8.2)\n",
            "Requirement already satisfied: pytz>=2020.1 in /usr/local/lib/python3.10/dist-packages (from pandas->useful_rdkit_utils) (2023.4)\n",
            "Requirement already satisfied: tzdata>=2022.1 in /usr/local/lib/python3.10/dist-packages (from pandas->useful_rdkit_utils) (2024.1)\n",
            "Requirement already satisfied: click in /usr/local/lib/python3.10/dist-packages (from pystow->useful_rdkit_utils) (8.1.7)\n",
            "Requirement already satisfied: requests in /usr/local/lib/python3.10/dist-packages (from pystow->useful_rdkit_utils) (2.31.0)\n",
            "Requirement already satisfied: Pillow in /usr/local/lib/python3.10/dist-packages (from rdkit->useful_rdkit_utils) (9.4.0)\n",
            "Requirement already satisfied: six>=1.5 in /usr/local/lib/python3.10/dist-packages (from python-dateutil>=2.8.2->pandas->useful_rdkit_utils) (1.16.0)\n",
            "Requirement already satisfied: charset-normalizer<4,>=2 in /usr/local/lib/python3.10/dist-packages (from requests->pystow->useful_rdkit_utils) (3.3.2)\n",
            "Requirement already satisfied: idna<4,>=2.5 in /usr/local/lib/python3.10/dist-packages (from requests->pystow->useful_rdkit_utils) (3.7)\n",
            "Requirement already satisfied: urllib3<3,>=1.21.1 in /usr/local/lib/python3.10/dist-packages (from requests->pystow->useful_rdkit_utils) (2.0.7)\n",
            "Requirement already satisfied: certifi>=2017.4.17 in /usr/local/lib/python3.10/dist-packages (from requests->pystow->useful_rdkit_utils) (2024.2.2)\n",
            "Installing collected packages: rdkit, pystow, useful_rdkit_utils, skorch, modAL-python\n",
            "Successfully installed modAL-python-0.4.2.1 pystow-0.5.4 rdkit-2023.9.6 skorch-0.9.0 useful_rdkit_utils-0.3.12\n",
            "Collecting gpytorch\n",
            "  Downloading gpytorch-1.11-py3-none-any.whl (266 kB)\n",
            "\u001b[2K     \u001b[90m━━━━━━━━━━━━━━━━━━━━━━━━━━━━━━━━━━━━━━━━\u001b[0m \u001b[32m266.1/266.1 kB\u001b[0m \u001b[31m1.6 MB/s\u001b[0m eta \u001b[36m0:00:00\u001b[0m\n",
            "\u001b[?25hRequirement already satisfied: scikit-learn in /usr/local/lib/python3.10/dist-packages (from gpytorch) (1.2.2)\n",
            "Collecting linear-operator>=0.5.0 (from gpytorch)\n",
            "  Downloading linear_operator-0.5.2-py3-none-any.whl (175 kB)\n",
            "\u001b[2K     \u001b[90m━━━━━━━━━━━━━━━━━━━━━━━━━━━━━━━━━━━━━━━━\u001b[0m \u001b[32m175.6/175.6 kB\u001b[0m \u001b[31m7.3 MB/s\u001b[0m eta \u001b[36m0:00:00\u001b[0m\n",
            "\u001b[?25hRequirement already satisfied: torch>=1.11 in /usr/local/lib/python3.10/dist-packages (from linear-operator>=0.5.0->gpytorch) (2.3.0+cu121)\n",
            "Requirement already satisfied: scipy in /usr/local/lib/python3.10/dist-packages (from linear-operator>=0.5.0->gpytorch) (1.11.4)\n",
            "Collecting jaxtyping>=0.2.9 (from linear-operator>=0.5.0->gpytorch)\n",
            "  Downloading jaxtyping-0.2.28-py3-none-any.whl (40 kB)\n",
            "\u001b[2K     \u001b[90m━━━━━━━━━━━━━━━━━━━━━━━━━━━━━━━━━━━━━━━━\u001b[0m \u001b[32m40.7/40.7 kB\u001b[0m \u001b[31m3.9 MB/s\u001b[0m eta \u001b[36m0:00:00\u001b[0m\n",
            "\u001b[?25hCollecting typeguard~=2.13.3 (from linear-operator>=0.5.0->gpytorch)\n",
            "  Downloading typeguard-2.13.3-py3-none-any.whl (17 kB)\n",
            "Requirement already satisfied: numpy>=1.17.3 in /usr/local/lib/python3.10/dist-packages (from scikit-learn->gpytorch) (1.25.2)\n",
            "Requirement already satisfied: joblib>=1.1.1 in /usr/local/lib/python3.10/dist-packages (from scikit-learn->gpytorch) (1.4.2)\n",
            "Requirement already satisfied: threadpoolctl>=2.0.0 in /usr/local/lib/python3.10/dist-packages (from scikit-learn->gpytorch) (3.5.0)\n",
            "Requirement already satisfied: filelock in /usr/local/lib/python3.10/dist-packages (from torch>=1.11->linear-operator>=0.5.0->gpytorch) (3.14.0)\n",
            "Requirement already satisfied: typing-extensions>=4.8.0 in /usr/local/lib/python3.10/dist-packages (from torch>=1.11->linear-operator>=0.5.0->gpytorch) (4.11.0)\n",
            "Requirement already satisfied: sympy in /usr/local/lib/python3.10/dist-packages (from torch>=1.11->linear-operator>=0.5.0->gpytorch) (1.12)\n",
            "Requirement already satisfied: networkx in /usr/local/lib/python3.10/dist-packages (from torch>=1.11->linear-operator>=0.5.0->gpytorch) (3.3)\n",
            "Requirement already satisfied: jinja2 in /usr/local/lib/python3.10/dist-packages (from torch>=1.11->linear-operator>=0.5.0->gpytorch) (3.1.4)\n",
            "Requirement already satisfied: fsspec in /usr/local/lib/python3.10/dist-packages (from torch>=1.11->linear-operator>=0.5.0->gpytorch) (2023.6.0)\n",
            "Collecting nvidia-cuda-nvrtc-cu12==12.1.105 (from torch>=1.11->linear-operator>=0.5.0->gpytorch)\n",
            "  Using cached nvidia_cuda_nvrtc_cu12-12.1.105-py3-none-manylinux1_x86_64.whl (23.7 MB)\n",
            "Collecting nvidia-cuda-runtime-cu12==12.1.105 (from torch>=1.11->linear-operator>=0.5.0->gpytorch)\n",
            "  Using cached nvidia_cuda_runtime_cu12-12.1.105-py3-none-manylinux1_x86_64.whl (823 kB)\n",
            "Collecting nvidia-cuda-cupti-cu12==12.1.105 (from torch>=1.11->linear-operator>=0.5.0->gpytorch)\n",
            "  Using cached nvidia_cuda_cupti_cu12-12.1.105-py3-none-manylinux1_x86_64.whl (14.1 MB)\n",
            "Collecting nvidia-cudnn-cu12==8.9.2.26 (from torch>=1.11->linear-operator>=0.5.0->gpytorch)\n",
            "  Using cached nvidia_cudnn_cu12-8.9.2.26-py3-none-manylinux1_x86_64.whl (731.7 MB)\n",
            "Collecting nvidia-cublas-cu12==12.1.3.1 (from torch>=1.11->linear-operator>=0.5.0->gpytorch)\n",
            "  Using cached nvidia_cublas_cu12-12.1.3.1-py3-none-manylinux1_x86_64.whl (410.6 MB)\n",
            "Collecting nvidia-cufft-cu12==11.0.2.54 (from torch>=1.11->linear-operator>=0.5.0->gpytorch)\n",
            "  Using cached nvidia_cufft_cu12-11.0.2.54-py3-none-manylinux1_x86_64.whl (121.6 MB)\n",
            "Collecting nvidia-curand-cu12==10.3.2.106 (from torch>=1.11->linear-operator>=0.5.0->gpytorch)\n",
            "  Using cached nvidia_curand_cu12-10.3.2.106-py3-none-manylinux1_x86_64.whl (56.5 MB)\n",
            "Collecting nvidia-cusolver-cu12==11.4.5.107 (from torch>=1.11->linear-operator>=0.5.0->gpytorch)\n",
            "  Using cached nvidia_cusolver_cu12-11.4.5.107-py3-none-manylinux1_x86_64.whl (124.2 MB)\n",
            "Collecting nvidia-cusparse-cu12==12.1.0.106 (from torch>=1.11->linear-operator>=0.5.0->gpytorch)\n",
            "  Using cached nvidia_cusparse_cu12-12.1.0.106-py3-none-manylinux1_x86_64.whl (196.0 MB)\n",
            "Collecting nvidia-nccl-cu12==2.20.5 (from torch>=1.11->linear-operator>=0.5.0->gpytorch)\n",
            "  Using cached nvidia_nccl_cu12-2.20.5-py3-none-manylinux2014_x86_64.whl (176.2 MB)\n",
            "Collecting nvidia-nvtx-cu12==12.1.105 (from torch>=1.11->linear-operator>=0.5.0->gpytorch)\n",
            "  Using cached nvidia_nvtx_cu12-12.1.105-py3-none-manylinux1_x86_64.whl (99 kB)\n",
            "Requirement already satisfied: triton==2.3.0 in /usr/local/lib/python3.10/dist-packages (from torch>=1.11->linear-operator>=0.5.0->gpytorch) (2.3.0)\n",
            "Collecting nvidia-nvjitlink-cu12 (from nvidia-cusolver-cu12==11.4.5.107->torch>=1.11->linear-operator>=0.5.0->gpytorch)\n",
            "  Downloading nvidia_nvjitlink_cu12-12.5.40-py3-none-manylinux2014_x86_64.whl (21.3 MB)\n",
            "\u001b[2K     \u001b[90m━━━━━━━━━━━━━━━━━━━━━━━━━━━━━━━━━━━━━━━━\u001b[0m \u001b[32m21.3/21.3 MB\u001b[0m \u001b[31m48.6 MB/s\u001b[0m eta \u001b[36m0:00:00\u001b[0m\n",
            "\u001b[?25hRequirement already satisfied: MarkupSafe>=2.0 in /usr/local/lib/python3.10/dist-packages (from jinja2->torch>=1.11->linear-operator>=0.5.0->gpytorch) (2.1.5)\n",
            "Requirement already satisfied: mpmath>=0.19 in /usr/local/lib/python3.10/dist-packages (from sympy->torch>=1.11->linear-operator>=0.5.0->gpytorch) (1.3.0)\n",
            "Installing collected packages: typeguard, nvidia-nvtx-cu12, nvidia-nvjitlink-cu12, nvidia-nccl-cu12, nvidia-curand-cu12, nvidia-cufft-cu12, nvidia-cuda-runtime-cu12, nvidia-cuda-nvrtc-cu12, nvidia-cuda-cupti-cu12, nvidia-cublas-cu12, nvidia-cusparse-cu12, nvidia-cudnn-cu12, jaxtyping, nvidia-cusolver-cu12, linear-operator, gpytorch\n",
            "Successfully installed gpytorch-1.11 jaxtyping-0.2.28 linear-operator-0.5.2 nvidia-cublas-cu12-12.1.3.1 nvidia-cuda-cupti-cu12-12.1.105 nvidia-cuda-nvrtc-cu12-12.1.105 nvidia-cuda-runtime-cu12-12.1.105 nvidia-cudnn-cu12-8.9.2.26 nvidia-cufft-cu12-11.0.2.54 nvidia-curand-cu12-10.3.2.106 nvidia-cusolver-cu12-11.4.5.107 nvidia-cusparse-cu12-12.1.0.106 nvidia-nccl-cu12-2.20.5 nvidia-nvjitlink-cu12-12.5.40 nvidia-nvtx-cu12-12.1.105 typeguard-2.13.3\n"
          ]
        }
      ],
      "source": [
        "!pip install useful_rdkit_utils tqdm scikit-learn 'modAL-python>=0.4.1'\n",
        "!pip install gpytorch"
      ]
    },
    {
      "cell_type": "markdown",
      "metadata": {
        "id": "9ko9T11j6vtQ"
      },
      "source": [
        "### git clone repo\n"
      ]
    },
    {
      "cell_type": "code",
      "execution_count": null,
      "metadata": {
        "colab": {
          "base_uri": "https://localhost:8080/"
        },
        "collapsed": true,
        "id": "52CUK-em6fnI",
        "outputId": "2de17c1f-eb5b-4d3c-c7f2-6e3a8d640d42"
      },
      "outputs": [
        {
          "output_type": "stream",
          "name": "stdout",
          "text": [
            "Cloning into 'ActiveLearning_BindingAffinity'...\n",
            "remote: Enumerating objects: 25, done.\u001b[K\n",
            "remote: Counting objects: 100% (25/25), done.\u001b[K\n",
            "remote: Compressing objects: 100% (20/20), done.\u001b[K\n",
            "remote: Total 25 (delta 11), reused 6 (delta 3), pack-reused 0\u001b[K\n",
            "Receiving objects: 100% (25/25), 255.89 KiB | 2.37 MiB/s, done.\n",
            "Resolving deltas: 100% (11/11), done.\n"
          ]
        }
      ],
      "source": [
        "!git clone https://github.com/meyresearch/ActiveLearning_BindingAffinity"
      ]
    },
    {
      "cell_type": "code",
      "execution_count": null,
      "metadata": {
        "id": "n5g7SX0Z6y5x"
      },
      "outputs": [],
      "source": [
        "### Import"
      ]
    },
    {
      "cell_type": "code",
      "execution_count": null,
      "metadata": {
        "id": "HHbxZ90ZmByD"
      },
      "outputs": [],
      "source": [
        "import numpy as np\n",
        "import pandas as pd\n",
        "from rdkit import Chem\n",
        "from rdkit.Chem import AllChem\n",
        "from tqdm import tqdm\n",
        "import gpytorch\n",
        "import torch\n",
        "from sklearn.metrics import r2_score\n",
        "from scipy.stats import spearmanr\n",
        "from sklearn.metrics import jaccard_score\n",
        "from sklearn.model_selection import train_test_split\n",
        "\n",
        "device = torch.device('cuda' if torch.cuda.is_available() else 'cpu')"
      ]
    },
    {
      "cell_type": "markdown",
      "metadata": {
        "id": "0baM12iSoHSn"
      },
      "source": [
        "### Function to convert SMILES to ECFP8 fingerprints\n"
      ]
    },
    {
      "cell_type": "code",
      "execution_count": null,
      "metadata": {
        "colab": {
          "base_uri": "https://localhost:8080/"
        },
        "id": "gyxH5Jd729rK",
        "outputId": "45b7639d-f0fc-4b80-91ad-6b3f37c1ffb8"
      },
      "outputs": [
        {
          "output_type": "stream",
          "name": "stderr",
          "text": [
            "Processing SMILES: 100%|██████████| 9997/9997 [00:08<00:00, 1180.97it/s]\n"
          ]
        },
        {
          "output_type": "stream",
          "name": "stdout",
          "text": [
            "TYK2 fingerprints shape: (9997, 4096)\n"
          ]
        },
        {
          "output_type": "stream",
          "name": "stderr",
          "text": [
            "Processing SMILES: 100%|██████████| 665/665 [00:00<00:00, 1873.23it/s]\n"
          ]
        },
        {
          "output_type": "stream",
          "name": "stdout",
          "text": [
            "Mpro fingerprints shape: (665, 4096)\n"
          ]
        },
        {
          "output_type": "stream",
          "name": "stderr",
          "text": [
            "Processing SMILES: 100%|██████████| 2502/2502 [00:02<00:00, 984.76it/s]\n"
          ]
        },
        {
          "output_type": "stream",
          "name": "stdout",
          "text": [
            "D2R fingerprints shape: (2502, 4096)\n"
          ]
        },
        {
          "output_type": "stream",
          "name": "stderr",
          "text": [
            "Processing SMILES: 100%|██████████| 4535/4535 [00:11<00:00, 405.78it/s]"
          ]
        },
        {
          "output_type": "stream",
          "name": "stdout",
          "text": [
            "USP7 fingerprints shape: (4535, 4096)\n"
          ]
        },
        {
          "output_type": "stream",
          "name": "stderr",
          "text": [
            "\n"
          ]
        }
      ],
      "source": [
        "# Function to convert SMILES to ECFP8 fingerprints\n",
        "def smiles_to_ecfp8(smiles_df, smiles_column_name):\n",
        "    fingerprints = []\n",
        "    for smiles in tqdm(smiles_df[smiles_column_name], desc=\"Processing SMILES\"):\n",
        "        mol = Chem.MolFromSmiles(smiles)\n",
        "        if mol:\n",
        "            fp = AllChem.GetMorganFingerprintAsBitVect(mol, radius=4, nBits=4096)\n",
        "            fp_array = np.zeros((0,), dtype=np.int8)\n",
        "            AllChem.DataStructs.ConvertToNumpyArray(fp, fp_array)\n",
        "            fingerprints.append(fp_array)\n",
        "    return np.array(fingerprints)\n",
        "\n",
        "# File paths for datasets\n",
        "file_paths = {\n",
        "    'TYK2': '/content/ActiveLearning_BindingAffinity/TYK2_final.csv',\n",
        "    'Mpro': '/content/ActiveLearning_BindingAffinity/Mpro_final.csv',\n",
        "    'D2R': '/content/ActiveLearning_BindingAffinity/D2R_final.csv',\n",
        "    'USP7': '/content/ActiveLearning_BindingAffinity/USP7_final.csv'\n",
        "}\n",
        "\n",
        "# Initialize dictionaries to store fingerprints and affinities\n",
        "fingerprints = {}\n",
        "affinities = {}\n",
        "top_2p_values = {}\n",
        "top_5p_values = {}\n",
        "\n",
        "# Read datasets and process SMILES strings\n",
        "for key, path in file_paths.items():\n",
        "    df = pd.read_csv(path)\n",
        "    fingerprints[key] = smiles_to_ecfp8(df, 'SMILES')\n",
        "    affinities[key] = torch.tensor(df['affinity'].values, dtype=torch.float32)\n",
        "    top_2p_values[key] = df['top_2p'].values ##aded this to get top_2%\n",
        "    top_5p_values[key] = df['top_5p'].values\n",
        "    print(f\"{key} fingerprints shape:\", fingerprints[key].shape)"
      ]
    },
    {
      "cell_type": "markdown",
      "metadata": {
        "id": "DYAkG7ujl2s8"
      },
      "source": [
        "## Step 2: Active Learning Function ⛔\n"
      ]
    },
    {
      "cell_type": "markdown",
      "metadata": {
        "id": "UftpEOZgoT_W"
      },
      "source": [
        "### Exploration strategy function ✅\n"
      ]
    },
    {
      "cell_type": "code",
      "execution_count": null,
      "metadata": {
        "id": "jW5l2vUnmHkn"
      },
      "outputs": [],
      "source": [
        "# Exploration strategy function\n",
        "def explore_selection(train_x, batch_size):\n",
        "    train_x_np = train_x.cpu().numpy()\n",
        "    selected_indices = []\n",
        "    remaining_indices = np.arange(len(train_x_np))\n",
        "    selected_indices.append(np.random.choice(remaining_indices))\n",
        "    remaining_indices = np.setdiff1d(remaining_indices, selected_indices)\n",
        "\n",
        "    while len(selected_indices) < batch_size:\n",
        "        # Euclidian distance\n",
        "        distances = np.sum((train_x_np[remaining_indices] - train_x_np[selected_indices[-1]])**2, axis=1)\n",
        "        next_index = remaining_indices[np.argmax(distances)] # Select farthest point\n",
        "        selected_indices.append(next_index)\n",
        "        remaining_indices = np.setdiff1d(remaining_indices, next_index) # Update remaining indices\n",
        "\n",
        "    return np.array(selected_indices)"
      ]
    },
    {
      "cell_type": "markdown",
      "metadata": {
        "id": "-YNufiJz9JIR"
      },
      "source": [
        "Either use above or below code.\n",
        "Below is for UCB"
      ]
    },
    {
      "cell_type": "markdown",
      "metadata": {
        "id": "TaXfviNx_QFb"
      },
      "source": [
        "### UCB ✅"
      ]
    },
    {
      "cell_type": "code",
      "execution_count": null,
      "metadata": {
        "id": "PonFv9BO9Hoj"
      },
      "outputs": [],
      "source": [
        "import numpy as np\n",
        "import math\n",
        "\n",
        "## UCB\n",
        "\n",
        "def ucb_explore_selection(train_x, batch_size, c):\n",
        "    train_x_np = train_x.cpu().numpy()  # Convert to NumPy array\n",
        "    num_samples = len(train_x_np)\n",
        "    selected_indices = []\n",
        "    remaining_indices = np.arange(num_samples)  # All indices\n",
        "\n",
        "    # Initialize counts and rewards\n",
        "    counts = np.zeros(num_samples)\n",
        "    rewards = np.zeros(num_samples)\n",
        "\n",
        "    # Select initial random index\n",
        "    initial_index = np.random.choice(remaining_indices)\n",
        "    selected_indices.append(initial_index)\n",
        "    remaining_indices = np.setdiff1d(remaining_indices, selected_indices)\n",
        "    counts[initial_index] += 1\n",
        "\n",
        "    while len(selected_indices) < batch_size:\n",
        "        ucb_values = []\n",
        "\n",
        "        for idx in remaining_indices:\n",
        "            if counts[idx] == 0:\n",
        "                ucb_value = float('inf')  # Ensure each action is tried at least once\n",
        "            else:\n",
        "                average_reward = rewards[idx] / counts[idx]\n",
        "                ucb_value = average_reward + c * math.sqrt(math.log(len(selected_indices)) / counts[idx])\n",
        "            ucb_values.append(ucb_value)\n",
        "\n",
        "        next_index = remaining_indices[np.argmax(ucb_values)]\n",
        "        selected_indices.append(next_index)\n",
        "        remaining_indices = np.setdiff1d(remaining_indices, next_index)\n",
        "        counts[next_index] += 1\n",
        "\n",
        "        # Simulate reward (for demonstration purposes, using Euclidean distance as a proxy)\n",
        "        last_selected_point = train_x_np[selected_indices[-2]]\n",
        "        current_point = train_x_np[next_index]\n",
        "        reward = -np.linalg.norm(current_point - last_selected_point)  # Negative distance as reward\n",
        "        rewards[next_index] += reward\n",
        "\n",
        "    return np.array(selected_indices)"
      ]
    },
    {
      "cell_type": "markdown",
      "metadata": {
        "id": "Bqao-0AWoWXm"
      },
      "source": [
        "### Function to perform active learning based on the protocol ⛔"
      ]
    },
    {
      "cell_type": "code",
      "execution_count": null,
      "metadata": {
        "id": "rCryRCSIl76H"
      },
      "outputs": [],
      "source": [
        "def active_learning(x, y, protocol, model_type, seed, dataset_name, protocol_name):\n",
        "    np.random.seed(seed)\n",
        "    torch.manual_seed(seed)\n",
        "\n",
        "    device = torch.device('cuda' if torch.cuda.is_available() else 'cpu')\n",
        "    x, y = x.to(device), y.to(device)\n",
        "\n",
        "    selected_indices = []\n",
        "    remaining_indices = np.array(list(range(len(x))))\n",
        "    metrics_history = []\n",
        "    uncertainties_history = []\n",
        "\n",
        "    for iteration, (method, batch_size) in enumerate(protocol, 1):\n",
        "        if method == \"random\":\n",
        "            new_indices = np.random.choice(remaining_indices, batch_size, replace=False)\n",
        "        elif method == \"explore\":\n",
        "            new_indices = explore_selection(x[remaining_indices], batch_size)\n",
        "        elif method == \"exploit\":\n",
        "            model, likelihood, _, _ = train_and_evaluate(x[selected_indices], y[selected_indices], x[remaining_indices], y[remaining_indices])\n",
        "            uncertainties = likelihood(model(x[remaining_indices])).variance.detach().cpu().numpy()\n",
        "            new_indices = remaining_indices[np.argsort(uncertainties)[-batch_size:]]\n",
        "            uncertainties_history.append(uncertainties)\n",
        "        elif method == \"ucb\":\n",
        "            # Select a batch of samples using the UCB strategy\n",
        "            new_indices = ucb_explore_selection(x[remaining_indices], batch_size, c=1.0)  # Adjust `c` as needed\n",
        "\n",
        "        selected_indices.extend(new_indices)\n",
        "        remaining_indices = np.setdiff1d(remaining_indices, new_indices)\n",
        "\n",
        "        visualize_sample_selection(x.cpu(), selected_indices, iteration, dataset_name, protocol_name, seed)\n",
        "\n",
        "        train_x, test_x, train_y, test_y = train_test_split(x[selected_indices], y[selected_indices], test_size=0.2, random_state=42)\n",
        "        final_model, final_likelihood, _, _ = train_and_evaluate(train_x, train_y, test_x, test_y)\n",
        "        r2, spearman_corr, recall_2_percent, recall_5_percent, jaccard = calculate_metrics(final_model, final_likelihood, test_x, test_y)\n",
        "\n",
        "        metrics_history.append({\n",
        "            'r2': r2,\n",
        "            'spearman': spearman_corr,\n",
        "            'recall_2_percent': recall_2_percent,\n",
        "            'recall_5_percent': recall_5_percent,\n",
        "            'jaccard': jaccard\n",
        "        })\n",
        "\n",
        "    visualize_performance(metrics_history, dataset_name, protocol_name, seed)\n",
        "    visualize_uncertainty(uncertainties_history, dataset_name, protocol_name, seed)\n",
        "\n",
        "    return selected_indices, r2, spearman_corr, recall_2_percent, recall_5_percent, jaccard\n"
      ]
    },
    {
      "cell_type": "markdown",
      "metadata": {
        "id": "wCP4iBCdmMlb"
      },
      "source": [
        "## Step 3: Model Training and Evaluation\n"
      ]
    },
    {
      "cell_type": "code",
      "execution_count": null,
      "metadata": {
        "id": "rrdL2aW2mXWi"
      },
      "outputs": [],
      "source": [
        "class TanimotoKernel(gpytorch.kernels.Kernel):\n",
        "    def __init__(self, **kwargs):\n",
        "        super(TanimotoKernel, self).__init__(**kwargs)\n",
        "        self.register_parameter(name=\"raw_lengthscale\", parameter=torch.nn.Parameter(torch.zeros(1)))\n",
        "\n",
        "    def forward(self, x1, x2, diag=False, **params):\n",
        "        if diag:\n",
        "            return self.covar_dist(x1, x2, diag=True, **params)\n",
        "        else:\n",
        "            x1_norm = x1.pow(2).sum(dim=-1, keepdim=True)\n",
        "            x2_norm = x2.pow(2).sum(dim=-1, keepdim=True)\n",
        "            x1_dot_x2 = x1 @ x2.transpose(-1, -2)\n",
        "            denominator = x1_norm + x2_norm.transpose(-1, -2) - x1_dot_x2\n",
        "            return x1_dot_x2 / denominator.clamp(min=1e-8)"
      ]
    },
    {
      "cell_type": "code",
      "execution_count": null,
      "metadata": {
        "id": "RnF4I3krmZJT"
      },
      "outputs": [],
      "source": [
        "class GPRegressionModel(gpytorch.models.ExactGP):\n",
        "    def __init__(self, train_x, train_y, likelihood):\n",
        "        super(GPRegressionModel, self).__init__(train_x, train_y, likelihood)\n",
        "        self.mean_module = gpytorch.means.ConstantMean()\n",
        "        self.covar_module = TanimotoKernel()\n",
        "\n",
        "    def forward(self, x):\n",
        "        mean_x = self.mean_module(x)\n",
        "        covar_x = self.covar_module(x)\n",
        "        return gpytorch.distributions.MultivariateNormal(mean_x, covar_x)"
      ]
    },
    {
      "cell_type": "code",
      "execution_count": null,
      "metadata": {
        "id": "vlfU2BunmQ7O"
      },
      "outputs": [],
      "source": [
        "def train_and_evaluate(train_x, train_y, test_x, test_y):\n",
        "    device = torch.device(\"cuda\" if torch.cuda.is_available() else \"cpu\")\n",
        "    train_x, train_y, test_x, test_y = train_x.to(device), train_y.to(device), test_x.to(device), test_y.to(device)\n",
        "    likelihood = gpytorch.likelihoods.GaussianLikelihood().to(device)\n",
        "    model = GPRegressionModel(train_x, train_y, likelihood).to(device)\n",
        "\n",
        "   # calculate_metrics\n",
        "\n",
        "    model.train()\n",
        "    likelihood.train()\n",
        "\n",
        "    print(\"🌞🌞🌞\")\n",
        "    print(f\" Satrted {dataset_name} with GP model using {protocol_name} protocol and seed {seed}.\")\n",
        "    print(\"🌊🌊🌊\")\n",
        "\n",
        "    optimizer = torch.optim.Adam(model.parameters(), lr=0.1)\n",
        "    mll = gpytorch.mlls.ExactMarginalLogLikelihood(likelihood, model)\n",
        "\n",
        "    training_iterations = 200\n",
        "    losses = []\n",
        "    for i in range(training_iterations):\n",
        "        optimizer.zero_grad()\n",
        "        output = model(train_x)\n",
        "        loss = -mll(output, train_y)\n",
        "        losses.append(loss.item())\n",
        "        if (i+1) % 100 == 0:\n",
        "          print(f\"Epoch {i+1} | Loss: {loss.item():.2f}\")\n",
        "        loss.backward()\n",
        "        optimizer.step()\n",
        "\n",
        "    model.eval()\n",
        "    likelihood.eval()\n",
        "    with torch.no_grad(), gpytorch.settings.fast_pred_var():\n",
        "        preds = likelihood(model(test_x))\n",
        "        mean = preds.mean\n",
        "        mse = torch.mean((mean - test_y) ** 2)\n",
        "        print(f'MSE: {mse.item()}')\n",
        "\n",
        "    return model, likelihood, losses, mean.cpu().numpy()"
      ]
    },
    {
      "cell_type": "markdown",
      "metadata": {
        "id": "pZi57aaDmdOR"
      },
      "source": [
        "## Step 4: Metrics Calculation\n"
      ]
    },
    {
      "cell_type": "code",
      "execution_count": null,
      "metadata": {
        "id": "K1xL5R8WmiBU"
      },
      "outputs": [],
      "source": [
        "def calculate_metrics(model, likelihood, test_x, test_y):\n",
        "    model.eval()\n",
        "    likelihood.eval()\n",
        "    with torch.no_grad():\n",
        "        output_test = model(test_x.to(device))\n",
        "        predictions = output_test.mean.cpu().numpy()\n",
        "\n",
        "        r2 = r2_score(test_y.cpu().numpy(), predictions)\n",
        "        spearman_corr, _ = spearmanr(test_y.cpu().numpy(), predictions)\n",
        "\n",
        "        top_2_percent = int(0.02 * len(predictions))\n",
        "        top_5_percent = int(0.05 * len(predictions))\n",
        "\n",
        "        top_2_indices = np.argsort(predictions)[-top_2_percent:]\n",
        "        top_5_indices = np.argsort(predictions)[-top_5_percent:]\n",
        "\n",
        "        recall_2_percent = np.sum(test_y.cpu().numpy()[top_2_indices]) / np.sum(test_y.cpu().numpy())\n",
        "        recall_5_percent = np.sum(test_y.cpu().numpy()[top_5_indices]) / np.sum(test_y.cpu().numpy())\n",
        "\n",
        "        binary_predictions = predictions > np.median(predictions)\n",
        "        binary_test_y = test_y.cpu().numpy() > np.median(test_y.cpu().numpy())\n",
        "        jaccard = jaccard_score(binary_test_y, binary_predictions)\n",
        "\n",
        "        print(f\"R2: {r2}\")\n",
        "        print(f\"Spearman Correlation: {spearman_corr}\")\n",
        "        print(f\"Recall 2%: {recall_2_percent}\")\n",
        "        print(f\"Recall 5%: {recall_5_percent}\")\n",
        "        print(f\"Jaccard Score: {jaccard}\")\n",
        "\n",
        "        return r2, spearman_corr, recall_2_percent, recall_5_percent,jaccard"
      ]
    },
    {
      "cell_type": "markdown",
      "metadata": {
        "id": "Ba68t1LMneHZ"
      },
      "source": [
        "## Visualisation"
      ]
    },
    {
      "cell_type": "markdown",
      "metadata": {
        "id": "K8teWn8Bnloq"
      },
      "source": [
        "### Step 1: Sample Selection Visualization\n"
      ]
    },
    {
      "cell_type": "code",
      "execution_count": null,
      "metadata": {
        "id": "C8UMw0DznioY"
      },
      "outputs": [],
      "source": [
        "import matplotlib.pyplot as plt\n",
        "from sklearn.decomposition import PCA\n",
        "from sklearn.manifold import TSNE\n",
        "\n",
        "def visualize_sample_selection(x, selected_indices, iteration, dataset_name, protocol_name, seed):\n",
        "    pca = PCA(n_components=2)\n",
        "    x_2d = pca.fit_transform(x)\n",
        "\n",
        "    plt.figure(figsize=(10, 6))\n",
        "    plt.scatter(x_2d[:, 0], x_2d[:, 1], c='lightgray', label='Unselected Samples')\n",
        "    plt.scatter(x_2d[selected_indices, 0], x_2d[selected_indices, 1], c='red', label='Selected Samples')\n",
        "    plt.title(f'Sample Selection at Iteration {iteration}\\nDataset: {dataset_name}, Protocol: {protocol_name}, Seed: {seed}')\n",
        "    plt.xlabel('Component 1')\n",
        "    plt.ylabel('Component 2')\n",
        "    plt.legend()\n",
        "    plt.savefig(f'sample_selection_{dataset_name}_{protocol_name}_{seed}_iter{iteration}.png')\n",
        "    plt.show()"
      ]
    },
    {
      "cell_type": "markdown",
      "metadata": {
        "id": "xEEOXBHdnpzm"
      },
      "source": [
        "### Step 2: Performance Metrics Visualization\n"
      ]
    },
    {
      "cell_type": "code",
      "execution_count": null,
      "metadata": {
        "id": "Jv25NId2ngHB"
      },
      "outputs": [],
      "source": [
        "def visualize_performance(metrics_history, dataset_name, protocol_name, seed):\n",
        "    iterations = list(range(1, len(metrics_history) + 1))\n",
        "    r2_scores = [metrics['r2'] for metrics in metrics_history]\n",
        "    spearman_corrs = [metrics['spearman'] for metrics in metrics_history]\n",
        "\n",
        "    plt.figure(figsize=(12, 6))\n",
        "\n",
        "    plt.subplot(1, 2, 1)\n",
        "    plt.bar(iterations, r2_scores)\n",
        "    plt.title(f'R2 Score over Iterations\\nDataset: {dataset_name}, Protocol: {protocol_name}, Seed: {seed}')\n",
        "    plt.xlabel('Iteration')\n",
        "    plt.ylabel('R2 Score')\n",
        "\n",
        "    plt.subplot(1, 2, 2)\n",
        "    plt.bar(iterations, spearman_corrs)\n",
        "    plt.title(f'Spearman Correlation over Iterations\\nDataset: {dataset_name}, Protocol: {protocol_name}, Seed: {seed}')\n",
        "    plt.xlabel('Iteration')\n",
        "    plt.ylabel('Spearman Correlation')\n",
        "\n",
        "    plt.tight_layout()\n",
        "    plt.savefig(f'performance_metrics_{dataset_name}_{protocol_name}_{seed}.png')\n",
        "    plt.show()"
      ]
    },
    {
      "cell_type": "markdown",
      "metadata": {
        "id": "gO5KumuEnsBT"
      },
      "source": [
        "### Step 3: Uncertainty Visualization\n"
      ]
    },
    {
      "cell_type": "code",
      "execution_count": null,
      "metadata": {
        "id": "_SR5A56SntYY"
      },
      "outputs": [],
      "source": [
        "def visualize_uncertainty(uncertainties_history, dataset_name, protocol_name, seed):\n",
        "    iterations = list(range(1, len(uncertainties_history) + 1))\n",
        "    avg_uncertainties = [np.mean(uncertainties) for uncertainties in uncertainties_history]\n",
        "\n",
        "    plt.figure(figsize=(10, 6))\n",
        "    plt.plot(iterations, avg_uncertainties, marker='o')\n",
        "    plt.title(f'Average Uncertainty over Iterations\\nDataset: {dataset_name}, Protocol: {protocol_name}, Seed: {seed}')\n",
        "    plt.xlabel('Iteration')\n",
        "    plt.ylabel('Average Uncertainty')\n",
        "    plt.savefig(f'uncertainty_{dataset_name}_{protocol_name}_{seed}.png')\n",
        "    plt.show()"
      ]
    },
    {
      "cell_type": "markdown",
      "metadata": {
        "id": "8lZAn4ylmjVM"
      },
      "source": [
        "## Step 5: Main Execution\n"
      ]
    },
    {
      "cell_type": "markdown",
      "metadata": {
        "id": "cuwtSpPChT-Q"
      },
      "source": [
        "### Define selection protocols\n"
      ]
    },
    {
      "cell_type": "code",
      "execution_count": null,
      "metadata": {
        "id": "D72TRDLuwMCv"
      },
      "outputs": [],
      "source": [
        "selection_protocols = {\n",
        "    \"random-exploit\": [(\"random\", 60)] + [(\"exploit\", 30)]*10,\n",
        "    \"random-explore-exploit\": [(\"random\", 60)] + [(\"explore\", 30)]*2 + [(\"exploit\", 30)]*8,\n",
        "    \"random-ucb\": [(\"random\", 60)] + [(\"ucb\", 30)]*10,\n",
        "}\n",
        "\n",
        "#can be any random number for testing keep one.\n",
        "random_seeds = [750]\n",
        "\n",
        "# Initialize DataFrame to store results\n",
        "results_df = pd.DataFrame(columns=[\"Dataset\", \"Model\", \"Protocol\", \"Seed\", \"R2\", \"Spearman\", \"Recall_2%\", \"Recall_5%\", \"Jaccard\"])"
      ]
    },
    {
      "cell_type": "markdown",
      "metadata": {
        "id": "xs65fJc9hV8J"
      },
      "source": [
        "### main execution"
      ]
    },
    {
      "cell_type": "code",
      "execution_count": null,
      "metadata": {
        "colab": {
          "base_uri": "https://localhost:8080/"
        },
        "id": "xsBMy3_pmk1M",
        "outputId": "79d9a41b-4b36-452b-f7fb-390454f1e197"
      },
      "outputs": [
        {
          "metadata": {
            "tags": null
          },
          "name": "stderr",
          "output_type": "stream",
          "text": [
            "Datasets:   0%|          | 0/4 [00:00<?, ?it/s]\n",
            "Protocols:   0%|          | 0/3 [00:00<?, ?it/s]\u001b[A\n",
            "\n",
            "Seeds:   0%|          | 0/1 [00:00<?, ?it/s]\u001b[A\u001b[A"
          ]
        },
        {
          "metadata": {
            "tags": null
          },
          "name": "stdout",
          "output_type": "stream",
          "text": [
            "🌞🌞🌞\n",
            " Satrted TYK2 with GP model using random-exploit protocol and seed 750.\n",
            "🌊🌊🌊\n",
            "Epoch 100 | Loss: 1.78\n",
            "Epoch 200 | Loss: 1.76\n",
            "MSE: 1.0814915895462036\n",
            "R2: 0.054022731534526636\n",
            "Spearman Correlation: 0.27272727272727276\n",
            "Recall 2%: 1.0000001192092896\n",
            "Recall 5%: 1.0000001192092896\n",
            "Jaccard Score: 0.5\n",
            "🌞🌞🌞\n",
            " Satrted TYK2 with GP model using random-exploit protocol and seed 750.\n",
            "🌊🌊🌊\n",
            "Epoch 100 | Loss: 1.72\n",
            "Epoch 200 | Loss: 1.71\n",
            "MSE: 1.5109660625457764\n",
            "🌞🌞🌞\n",
            " Satrted TYK2 with GP model using random-exploit protocol and seed 750.\n",
            "🌊🌊🌊\n",
            "Epoch 100 | Loss: 1.77\n",
            "Epoch 200 | Loss: 1.75\n",
            "MSE: 1.553364634513855\n",
            "R2: 0.1350410254398603\n",
            "Spearman Correlation: 0.29205366357069146\n",
            "Recall 2%: 1.0000001192092896\n",
            "Recall 5%: 1.0000001192092896\n",
            "Jaccard Score: 0.38461538461538464\n",
            "🌞🌞🌞\n",
            " Satrted TYK2 with GP model using random-exploit protocol and seed 750.\n",
            "🌊🌊🌊\n",
            "Epoch 100 | Loss: 1.74\n",
            "Epoch 200 | Loss: 1.73\n",
            "MSE: 1.4455077648162842\n",
            "🌞🌞🌞\n",
            " Satrted TYK2 with GP model using random-exploit protocol and seed 750.\n",
            "🌊🌊🌊\n",
            "Epoch 100 | Loss: 1.87\n",
            "Epoch 200 | Loss: 1.86\n",
            "MSE: 0.9769789576530457\n",
            "R2: 0.1151666911745246\n",
            "Spearman Correlation: 0.3913043478260869\n",
            "Recall 2%: 0.9999999403953552\n",
            "Recall 5%: 0.045905373990535736\n",
            "Jaccard Score: 0.5\n",
            "🌞🌞🌞\n",
            " Satrted TYK2 with GP model using random-exploit protocol and seed 750.\n",
            "🌊🌊🌊\n",
            "Epoch 100 | Loss: 1.79\n",
            "Epoch 200 | Loss: 1.78\n",
            "MSE: 1.2859553098678589\n",
            "🌞🌞🌞\n",
            " Satrted TYK2 with GP model using random-exploit protocol and seed 750.\n",
            "🌊🌊🌊\n",
            "Epoch 100 | Loss: 1.78\n",
            "Epoch 200 | Loss: 1.77\n",
            "MSE: 1.8140932321548462\n",
            "R2: 0.3083872310314071\n",
            "Spearman Correlation: 0.6516129032258065\n",
            "Recall 2%: 1.0\n",
            "Recall 5%: 0.042278703302145004\n",
            "Jaccard Score: 0.6666666666666666\n",
            "🌞🌞🌞\n",
            " Satrted TYK2 with GP model using random-exploit protocol and seed 750.\n",
            "🌊🌊🌊\n",
            "Epoch 100 | Loss: 1.76\n",
            "Epoch 200 | Loss: 1.75\n",
            "MSE: 1.2182765007019043\n",
            "🌞🌞🌞\n",
            " Satrted TYK2 with GP model using random-exploit protocol and seed 750.\n",
            "🌊🌊🌊\n",
            "Epoch 100 | Loss: 1.80\n",
            "Epoch 200 | Loss: 1.80\n",
            "MSE: 1.6029752492904663\n",
            "R2: 0.3912496916357858\n",
            "Spearman Correlation: 0.7063063063063063\n",
            "Recall 2%: 1.0\n",
            "Recall 5%: 0.041730597615242004\n",
            "Jaccard Score: 0.6363636363636364\n",
            "🌞🌞🌞\n",
            " Satrted TYK2 with GP model using random-exploit protocol and seed 750.\n",
            "🌊🌊🌊\n",
            "Epoch 100 | Loss: 1.77\n",
            "Epoch 200 | Loss: 1.76\n",
            "MSE: 1.0700311660766602\n",
            "🌞🌞🌞\n",
            " Satrted TYK2 with GP model using random-exploit protocol and seed 750.\n",
            "🌊🌊🌊\n",
            "Epoch 100 | Loss: 1.77\n",
            "Epoch 200 | Loss: 1.76\n",
            "MSE: 1.5249738693237305\n",
            "R2: 0.4278653695991662\n",
            "Spearman Correlation: 0.6745806660724415\n",
            "Recall 2%: 0.9999998807907104\n",
            "Recall 5%: 0.06797970831394196\n",
            "Jaccard Score: 0.6153846153846154\n",
            "🌞🌞🌞\n",
            " Satrted TYK2 with GP model using random-exploit protocol and seed 750.\n",
            "🌊🌊🌊\n",
            "Epoch 100 | Loss: 1.73\n",
            "Epoch 200 | Loss: 1.72\n",
            "MSE: 0.9939342737197876\n",
            "🌞🌞🌞\n",
            " Satrted TYK2 with GP model using random-exploit protocol and seed 750.\n",
            "🌊🌊🌊\n",
            "Epoch 100 | Loss: 1.70\n",
            "Epoch 200 | Loss: 1.70\n",
            "MSE: 1.4989162683486938\n",
            "R2: 0.34679859681125613\n",
            "Spearman Correlation: 0.6372123317412071\n",
            "Recall 2%: 1.0\n",
            "Recall 5%: 0.051480986177921295\n",
            "Jaccard Score: 0.6\n",
            "🌞🌞🌞\n",
            " Satrted TYK2 with GP model using random-exploit protocol and seed 750.\n",
            "🌊🌊🌊\n",
            "Epoch 100 | Loss: 1.68\n",
            "Epoch 200 | Loss: 1.67\n",
            "MSE: 0.9304580688476562\n"
          ]
        },
        {
          "metadata": {
            "tags": null
          },
          "name": "stderr",
          "output_type": "stream",
          "text": [
            "/usr/local/lib/python3.10/dist-packages/gpytorch/distributions/multivariate_normal.py:319: NumericalWarning: Negative variance values detected. This is likely due to numerical instabilities. Rounding negative variances up to 1e-06.\n",
            "  warnings.warn(\n"
          ]
        },
        {
          "metadata": {
            "tags": null
          },
          "name": "stdout",
          "output_type": "stream",
          "text": [
            "🌞🌞🌞\n",
            " Satrted TYK2 with GP model using random-exploit protocol and seed 750.\n",
            "🌊🌊🌊\n",
            "Epoch 100 | Loss: 1.70\n",
            "Epoch 200 | Loss: 1.69\n",
            "MSE: 1.5168694257736206\n",
            "R2: 0.4636418917296121\n",
            "Spearman Correlation: 0.7408042691061558\n",
            "Recall 2%: 0.025392750278115273\n",
            "Recall 5%: 0.05237443372607231\n",
            "Jaccard Score: 0.5882352941176471\n",
            "🌞🌞🌞\n",
            " Satrted TYK2 with GP model using random-exploit protocol and seed 750.\n",
            "🌊🌊🌊\n",
            "Epoch 100 | Loss: 1.68\n",
            "Epoch 200 | Loss: 1.68\n",
            "MSE: 0.8680717945098877\n"
          ]
        },
        {
          "metadata": {
            "tags": null
          },
          "name": "stderr",
          "output_type": "stream",
          "text": [
            "/usr/local/lib/python3.10/dist-packages/gpytorch/distributions/multivariate_normal.py:319: NumericalWarning: Negative variance values detected. This is likely due to numerical instabilities. Rounding negative variances up to 1e-06.\n",
            "  warnings.warn(\n"
          ]
        },
        {
          "metadata": {
            "tags": null
          },
          "name": "stdout",
          "output_type": "stream",
          "text": [
            "🌞🌞🌞\n",
            " Satrted TYK2 with GP model using random-exploit protocol and seed 750.\n",
            "🌊🌊🌊\n",
            "Epoch 100 | Loss: 1.70\n",
            "Epoch 200 | Loss: 1.70\n",
            "MSE: 1.1911929845809937\n",
            "R2: 0.5633088976538004\n",
            "Spearman Correlation: 0.8056682411781051\n",
            "Recall 2%: 0.024370094761252403\n",
            "Recall 5%: 0.07316797971725464\n",
            "Jaccard Score: 0.5384615384615384\n",
            "🌞🌞🌞\n",
            " Satrted TYK2 with GP model using random-exploit protocol and seed 750.\n",
            "🌊🌊🌊\n",
            "Epoch 100 | Loss: 1.66\n",
            "Epoch 200 | Loss: 1.65\n",
            "MSE: 0.8459195494651794\n"
          ]
        },
        {
          "metadata": {
            "tags": null
          },
          "name": "stderr",
          "output_type": "stream",
          "text": [
            "/usr/local/lib/python3.10/dist-packages/gpytorch/distributions/multivariate_normal.py:319: NumericalWarning: Negative variance values detected. This is likely due to numerical instabilities. Rounding negative variances up to 1e-06.\n",
            "  warnings.warn(\n"
          ]
        },
        {
          "metadata": {
            "tags": null
          },
          "name": "stdout",
          "output_type": "stream",
          "text": [
            "🌞🌞🌞\n",
            " Satrted TYK2 with GP model using random-exploit protocol and seed 750.\n",
            "🌊🌊🌊\n",
            "Epoch 100 | Loss: 1.69\n",
            "Epoch 200 | Loss: 1.68\n",
            "MSE: 1.0362581014633179\n",
            "R2: 0.59507991062809\n",
            "Spearman Correlation: 0.779855964930592\n",
            "Recall 2%: 0.018092576414346695\n",
            "Recall 5%: 0.0625385269522667\n",
            "Jaccard Score: 0.65\n",
            "🌞🌞🌞\n",
            " Satrted TYK2 with GP model using random-exploit protocol and seed 750.\n",
            "🌊🌊🌊\n",
            "Epoch 100 | Loss: 1.63\n",
            "Epoch 200 | Loss: 1.63\n",
            "MSE: 0.7926954627037048\n"
          ]
        },
        {
          "metadata": {
            "tags": null
          },
          "name": "stderr",
          "output_type": "stream",
          "text": [
            "/usr/local/lib/python3.10/dist-packages/gpytorch/distributions/multivariate_normal.py:319: NumericalWarning: Negative variance values detected. This is likely due to numerical instabilities. Rounding negative variances up to 1e-06.\n",
            "  warnings.warn(\n"
          ]
        },
        {
          "metadata": {
            "tags": null
          },
          "name": "stdout",
          "output_type": "stream",
          "text": [
            "🌞🌞🌞\n",
            " Satrted TYK2 with GP model using random-exploit protocol and seed 750.\n",
            "🌊🌊🌊\n",
            "Epoch 100 | Loss: 1.68\n",
            "Epoch 200 | Loss: 1.67\n",
            "MSE: 0.9024930596351624\n",
            "R2: 0.6340109820533886\n",
            "Spearman Correlation: 0.7647437134220851\n",
            "Recall 2%: 0.01600700430572033\n",
            "Recall 5%: 0.055329568684101105\n",
            "Jaccard Score: 0.6744186046511628\n"
          ]
        },
        {
          "metadata": {
            "tags": null
          },
          "name": "stderr",
          "output_type": "stream",
          "text": [
            "\n",
            "\n",
            "Seeds: 100%|██████████| 1/1 [01:55<00:00, 115.38s/it]\u001b[A\u001b[A\n",
            "\n",
            "                                                     \u001b[A\u001b[A\n",
            "Protocols:  33%|███▎      | 1/3 [01:55<03:50, 115.40s/it]\u001b[A"
          ]
        },
        {
          "metadata": {
            "tags": null
          },
          "name": "stdout",
          "output_type": "stream",
          "text": [
            "🌞🌞🌞\n",
            " Finished TYK2 with GP model using random-exploit protocol and seed 750.\n",
            "🌊🌊🌊\n"
          ]
        },
        {
          "metadata": {
            "tags": null
          },
          "name": "stderr",
          "output_type": "stream",
          "text": [
            "\n",
            "\n",
            "Seeds:   0%|          | 0/1 [00:00<?, ?it/s]\u001b[A\u001b[A"
          ]
        },
        {
          "metadata": {
            "tags": null
          },
          "name": "stdout",
          "output_type": "stream",
          "text": [
            "🌞🌞🌞\n",
            " Satrted TYK2 with GP model using random-explore-exploit protocol and seed 750.\n",
            "🌊🌊🌊\n",
            "Epoch 100 | Loss: 1.78\n",
            "Epoch 200 | Loss: 1.76\n",
            "MSE: 1.0814915895462036\n",
            "R2: 0.054022731534526636\n",
            "Spearman Correlation: 0.27272727272727276\n",
            "Recall 2%: 1.0000001192092896\n",
            "Recall 5%: 1.0000001192092896\n",
            "Jaccard Score: 0.5\n",
            "🌞🌞🌞\n",
            " Satrted TYK2 with GP model using random-explore-exploit protocol and seed 750.\n",
            "🌊🌊🌊\n",
            "Epoch 100 | Loss: 1.62\n",
            "Epoch 200 | Loss: 1.61\n",
            "MSE: 1.3588969707489014\n",
            "R2: 0.14072345605522285\n",
            "Spearman Correlation: 0.413828689370485\n",
            "Recall 2%: 1.0000001192092896\n",
            "Recall 5%: 1.0000001192092896\n",
            "Jaccard Score: 0.38461538461538464\n",
            "🌞🌞🌞\n",
            " Satrted TYK2 with GP model using random-explore-exploit protocol and seed 750.\n",
            "🌊🌊🌊\n",
            "Epoch 100 | Loss: 1.64\n",
            "Epoch 200 | Loss: 1.63\n",
            "MSE: 1.047260046005249\n",
            "R2: 0.289879163830814\n",
            "Spearman Correlation: 0.6156521739130434\n",
            "Recall 2%: 1.0\n",
            "Recall 5%: 0.053217753767967224\n",
            "Jaccard Score: 0.6\n",
            "🌞🌞🌞\n",
            " Satrted TYK2 with GP model using random-explore-exploit protocol and seed 750.\n",
            "🌊🌊🌊\n",
            "Epoch 100 | Loss: 1.60\n",
            "Epoch 200 | Loss: 1.59\n",
            "MSE: 1.1964832544326782\n"
          ]
        },
        {
          "metadata": {
            "tags": null
          },
          "name": "stderr",
          "output_type": "stream",
          "text": [
            "/usr/local/lib/python3.10/dist-packages/gpytorch/distributions/multivariate_normal.py:319: NumericalWarning: Negative variance values detected. This is likely due to numerical instabilities. Rounding negative variances up to 1e-06.\n",
            "  warnings.warn(\n"
          ]
        },
        {
          "metadata": {
            "tags": null
          },
          "name": "stdout",
          "output_type": "stream",
          "text": [
            "🌞🌞🌞\n",
            " Satrted TYK2 with GP model using random-explore-exploit protocol and seed 750.\n",
            "🌊🌊🌊\n",
            "Epoch 100 | Loss: 1.74\n",
            "Epoch 200 | Loss: 1.73\n",
            "MSE: 0.8856446743011475\n",
            "R2: 0.4914705551934986\n",
            "Spearman Correlation: 0.8140155728587318\n",
            "Recall 2%: 1.0\n",
            "Recall 5%: 0.03758711740374565\n",
            "Jaccard Score: 0.6666666666666666\n",
            "🌞🌞🌞\n",
            " Satrted TYK2 with GP model using random-explore-exploit protocol and seed 750.\n",
            "🌊🌊🌊\n",
            "Epoch 100 | Loss: 1.66\n",
            "Epoch 200 | Loss: 1.65\n",
            "MSE: 1.102829933166504\n"
          ]
        },
        {
          "metadata": {
            "tags": null
          },
          "name": "stderr",
          "output_type": "stream",
          "text": [
            "/usr/local/lib/python3.10/dist-packages/gpytorch/distributions/multivariate_normal.py:319: NumericalWarning: Negative variance values detected. This is likely due to numerical instabilities. Rounding negative variances up to 1e-06.\n",
            "  warnings.warn(\n"
          ]
        },
        {
          "metadata": {
            "tags": null
          },
          "name": "stdout",
          "output_type": "stream",
          "text": [
            "🌞🌞🌞\n",
            " Satrted TYK2 with GP model using random-explore-exploit protocol and seed 750.\n",
            "🌊🌊🌊\n",
            "Epoch 100 | Loss: 1.68\n",
            "Epoch 200 | Loss: 1.68\n",
            "MSE: 1.3754335641860962\n",
            "R2: 0.3949323291660879\n",
            "Spearman Correlation: 0.7446589446589448\n",
            "Recall 2%: 1.0\n",
            "Recall 5%: 0.044321171939373016\n",
            "Jaccard Score: 0.5652173913043478\n",
            "🌞🌞🌞\n",
            " Satrted TYK2 with GP model using random-explore-exploit protocol and seed 750.\n",
            "🌊🌊🌊\n",
            "Epoch 100 | Loss: 1.65\n",
            "Epoch 200 | Loss: 1.64\n",
            "MSE: 1.0278148651123047\n"
          ]
        },
        {
          "metadata": {
            "tags": null
          },
          "name": "stderr",
          "output_type": "stream",
          "text": [
            "/usr/local/lib/python3.10/dist-packages/gpytorch/distributions/multivariate_normal.py:319: NumericalWarning: Negative variance values detected. This is likely due to numerical instabilities. Rounding negative variances up to 1e-06.\n",
            "  warnings.warn(\n"
          ]
        },
        {
          "metadata": {
            "tags": null
          },
          "name": "stdout",
          "output_type": "stream",
          "text": [
            "🌞🌞🌞\n",
            " Satrted TYK2 with GP model using random-explore-exploit protocol and seed 750.\n",
            "🌊🌊🌊\n",
            "Epoch 100 | Loss: 1.67\n",
            "Epoch 200 | Loss: 1.67\n",
            "MSE: 0.9712101817131042\n",
            "R2: 0.49794972383584224\n",
            "Spearman Correlation: 0.7904545822866867\n",
            "Recall 2%: 1.0000001192092896\n",
            "Recall 5%: 0.06383071094751358\n",
            "Jaccard Score: 0.6153846153846154\n",
            "🌞🌞🌞\n",
            " Satrted TYK2 with GP model using random-explore-exploit protocol and seed 750.\n",
            "🌊🌊🌊\n",
            "Epoch 100 | Loss: 1.61\n",
            "Epoch 200 | Loss: 1.60\n",
            "MSE: 0.9399470686912537\n"
          ]
        },
        {
          "metadata": {
            "tags": null
          },
          "name": "stderr",
          "output_type": "stream",
          "text": [
            "/usr/local/lib/python3.10/dist-packages/gpytorch/distributions/multivariate_normal.py:319: NumericalWarning: Negative variance values detected. This is likely due to numerical instabilities. Rounding negative variances up to 1e-06.\n",
            "  warnings.warn(\n"
          ]
        },
        {
          "metadata": {
            "tags": null
          },
          "name": "stdout",
          "output_type": "stream",
          "text": [
            "🌞🌞🌞\n",
            " Satrted TYK2 with GP model using random-explore-exploit protocol and seed 750.\n",
            "🌊🌊🌊\n",
            "Epoch 100 | Loss: 1.69\n",
            "Epoch 200 | Loss: 1.68\n",
            "MSE: 0.8559052348136902\n",
            "R2: 0.5087406637525723\n",
            "Spearman Correlation: 0.8091619626574034\n",
            "Recall 2%: 1.0\n",
            "Recall 5%: 0.057493552565574646\n",
            "Jaccard Score: 0.6\n",
            "🌞🌞🌞\n",
            " Satrted TYK2 with GP model using random-explore-exploit protocol and seed 750.\n",
            "🌊🌊🌊\n",
            "Epoch 100 | Loss: 1.60\n",
            "Epoch 200 | Loss: 1.60\n",
            "MSE: 0.8515586853027344\n"
          ]
        },
        {
          "metadata": {
            "tags": null
          },
          "name": "stderr",
          "output_type": "stream",
          "text": [
            "/usr/local/lib/python3.10/dist-packages/gpytorch/distributions/multivariate_normal.py:319: NumericalWarning: Negative variance values detected. This is likely due to numerical instabilities. Rounding negative variances up to 1e-06.\n",
            "  warnings.warn(\n"
          ]
        },
        {
          "metadata": {
            "tags": null
          },
          "name": "stdout",
          "output_type": "stream",
          "text": [
            "🌞🌞🌞\n",
            " Satrted TYK2 with GP model using random-explore-exploit protocol and seed 750.\n",
            "🌊🌊🌊\n",
            "Epoch 100 | Loss: 1.63\n",
            "Epoch 200 | Loss: 1.62\n",
            "MSE: 0.8389256000518799\n",
            "R2: 0.5082638968713389\n",
            "Spearman Correlation: 0.7861635220125784\n",
            "Recall 2%: 0.02685716189444065\n",
            "Recall 5%: 0.04910365492105484\n",
            "Jaccard Score: 0.7419354838709677\n",
            "🌞🌞🌞\n",
            " Satrted TYK2 with GP model using random-explore-exploit protocol and seed 750.\n",
            "🌊🌊🌊\n",
            "Epoch 100 | Loss: 1.55\n",
            "Epoch 200 | Loss: 1.55\n",
            "MSE: 0.8057264685630798\n"
          ]
        },
        {
          "metadata": {
            "tags": null
          },
          "name": "stderr",
          "output_type": "stream",
          "text": [
            "/usr/local/lib/python3.10/dist-packages/gpytorch/distributions/multivariate_normal.py:319: NumericalWarning: Negative variance values detected. This is likely due to numerical instabilities. Rounding negative variances up to 1e-06.\n",
            "  warnings.warn(\n"
          ]
        },
        {
          "metadata": {
            "tags": null
          },
          "name": "stdout",
          "output_type": "stream",
          "text": [
            "🌞🌞🌞\n",
            " Satrted TYK2 with GP model using random-explore-exploit protocol and seed 750.\n",
            "🌊🌊🌊\n",
            "Epoch 100 | Loss: 1.51\n",
            "Epoch 200 | Loss: 1.50\n",
            "MSE: 1.3414033651351929\n",
            "R2: 0.48846907079338386\n",
            "Spearman Correlation: 0.776493470408447\n",
            "Recall 2%: 0.02664158120751381\n",
            "Recall 5%: 0.06851619482040405\n",
            "Jaccard Score: 0.6666666666666666\n",
            "🌞🌞🌞\n",
            " Satrted TYK2 with GP model using random-explore-exploit protocol and seed 750.\n",
            "🌊🌊🌊\n",
            "Epoch 100 | Loss: 1.50\n",
            "Epoch 200 | Loss: 1.50\n",
            "MSE: 0.7915468215942383\n"
          ]
        },
        {
          "metadata": {
            "tags": null
          },
          "name": "stderr",
          "output_type": "stream",
          "text": [
            "/usr/local/lib/python3.10/dist-packages/gpytorch/distributions/multivariate_normal.py:319: NumericalWarning: Negative variance values detected. This is likely due to numerical instabilities. Rounding negative variances up to 1e-06.\n",
            "  warnings.warn(\n"
          ]
        },
        {
          "metadata": {
            "tags": null
          },
          "name": "stdout",
          "output_type": "stream",
          "text": [
            "🌞🌞🌞\n",
            " Satrted TYK2 with GP model using random-explore-exploit protocol and seed 750.\n",
            "🌊🌊🌊\n",
            "Epoch 100 | Loss: 1.48\n",
            "Epoch 200 | Loss: 1.48\n",
            "MSE: 0.932023823261261\n",
            "R2: 0.4667936013846483\n",
            "Spearman Correlation: 0.6820791149149359\n",
            "Recall 2%: 0.024023080244660378\n",
            "Recall 5%: 0.05998753011226654\n",
            "Jaccard Score: 0.5348837209302325\n",
            "🌞🌞🌞\n",
            " Satrted TYK2 with GP model using random-explore-exploit protocol and seed 750.\n",
            "🌊🌊🌊\n",
            "Epoch 100 | Loss: 1.45\n",
            "Epoch 200 | Loss: 1.44\n",
            "MSE: 0.7629198431968689\n"
          ]
        },
        {
          "metadata": {
            "tags": null
          },
          "name": "stderr",
          "output_type": "stream",
          "text": [
            "/usr/local/lib/python3.10/dist-packages/gpytorch/distributions/multivariate_normal.py:319: NumericalWarning: Negative variance values detected. This is likely due to numerical instabilities. Rounding negative variances up to 1e-06.\n",
            "  warnings.warn(\n"
          ]
        },
        {
          "metadata": {
            "tags": null
          },
          "name": "stdout",
          "output_type": "stream",
          "text": [
            "🌞🌞🌞\n",
            " Satrted TYK2 with GP model using random-explore-exploit protocol and seed 750.\n",
            "🌊🌊🌊\n",
            "Epoch 100 | Loss: 1.45\n",
            "Epoch 200 | Loss: 1.45\n",
            "MSE: 0.6514171957969666\n",
            "R2: 0.497197151165949\n",
            "Spearman Correlation: 0.7320084892919159\n",
            "Recall 2%: 0.017219945788383484\n",
            "Recall 5%: 0.05036668851971626\n",
            "Jaccard Score: 0.6\n"
          ]
        },
        {
          "metadata": {
            "tags": null
          },
          "name": "stderr",
          "output_type": "stream",
          "text": [
            "\n",
            "\n",
            "Seeds: 100%|██████████| 1/1 [01:56<00:00, 116.70s/it]\u001b[A\u001b[A\n",
            "\n",
            "                                                     \u001b[A\u001b[A\n",
            "Protocols:  67%|██████▋   | 2/3 [03:52<01:56, 116.18s/it]\u001b[A"
          ]
        },
        {
          "metadata": {
            "tags": null
          },
          "name": "stdout",
          "output_type": "stream",
          "text": [
            "🌞🌞🌞\n",
            " Finished TYK2 with GP model using random-explore-exploit protocol and seed 750.\n",
            "🌊🌊🌊\n"
          ]
        },
        {
          "metadata": {
            "tags": null
          },
          "name": "stderr",
          "output_type": "stream",
          "text": [
            "\n",
            "\n",
            "Seeds:   0%|          | 0/1 [00:00<?, ?it/s]\u001b[A\u001b[A"
          ]
        },
        {
          "metadata": {
            "tags": null
          },
          "name": "stdout",
          "output_type": "stream",
          "text": [
            "🌞🌞🌞\n",
            " Satrted TYK2 with GP model using random-ucb protocol and seed 750.\n",
            "🌊🌊🌊\n",
            "Epoch 100 | Loss: 1.78\n",
            "Epoch 200 | Loss: 1.76\n",
            "MSE: 1.0814915895462036\n",
            "R2: 0.054022731534526636\n",
            "Spearman Correlation: 0.27272727272727276\n",
            "Recall 2%: 1.0000001192092896\n",
            "Recall 5%: 1.0000001192092896\n",
            "Jaccard Score: 0.5\n",
            "🌞🌞🌞\n",
            " Satrted TYK2 with GP model using random-ucb protocol and seed 750.\n",
            "🌊🌊🌊\n",
            "Epoch 100 | Loss: 1.59\n",
            "Epoch 200 | Loss: 1.57\n",
            "MSE: 1.4698725938796997\n",
            "R2: -0.20373316466061198\n",
            "Spearman Correlation: 0.32507739938080493\n",
            "Recall 2%: 1.0\n",
            "Recall 5%: 1.0\n",
            "Jaccard Score: 0.5\n",
            "🌞🌞🌞\n",
            " Satrted TYK2 with GP model using random-ucb protocol and seed 750.\n",
            "🌊🌊🌊\n",
            "Epoch 100 | Loss: 0.85\n",
            "Epoch 200 | Loss: 0.83\n",
            "MSE: 0.6926046013832092\n",
            "R2: 0.31526497493554384\n",
            "Spearman Correlation: 0.6295652173913043\n",
            "Recall 2%: 1.0\n",
            "Recall 5%: 0.05031758174300194\n",
            "Jaccard Score: 0.7142857142857143\n",
            "🌞🌞🌞\n",
            " Satrted TYK2 with GP model using random-ucb protocol and seed 750.\n",
            "🌊🌊🌊\n",
            "Epoch 100 | Loss: 0.11\n",
            "Epoch 200 | Loss: 0.06\n",
            "MSE: 0.5822049379348755\n",
            "R2: 0.38249765558692306\n",
            "Spearman Correlation: 0.7565101268640109\n",
            "Recall 2%: 1.0\n",
            "Recall 5%: 0.04210535064339638\n",
            "Jaccard Score: 0.7647058823529411\n",
            "🌞🌞🌞\n",
            " Satrted TYK2 with GP model using random-ucb protocol and seed 750.\n",
            "🌊🌊🌊\n",
            "Epoch 100 | Loss: -0.54\n",
            "Epoch 200 | Loss: -0.62\n",
            "MSE: 0.850439190864563\n",
            "R2: -0.05652561806921019\n",
            "Spearman Correlation: 0.5238463521526167\n",
            "Recall 2%: 1.0\n",
            "Recall 5%: 0.032014355063438416\n",
            "Jaccard Score: 0.5909090909090909\n",
            "🌞🌞🌞\n",
            " Satrted TYK2 with GP model using random-ucb protocol and seed 750.\n",
            "🌊🌊🌊\n",
            "Epoch 100 | Loss: -0.74\n",
            "Epoch 200 | Loss: -0.82\n",
            "MSE: 0.29821550846099854\n",
            "R2: 0.6315442115690363\n",
            "Spearman Correlation: 0.8339555267002109\n",
            "Recall 2%: 1.0\n",
            "Recall 5%: 0.05858711153268814\n",
            "Jaccard Score: 0.7391304347826086\n",
            "🌞🌞🌞\n",
            " Satrted TYK2 with GP model using random-ucb protocol and seed 750.\n",
            "🌊🌊🌊\n",
            "Epoch 100 | Loss: -1.14\n",
            "Epoch 200 | Loss: -1.24\n",
            "MSE: 0.3537499010562897\n",
            "R2: 0.6048914247890423\n",
            "Spearman Correlation: 0.797555012224939\n",
            "Recall 2%: 1.0\n",
            "Recall 5%: 0.05381814017891884\n",
            "Jaccard Score: 0.7037037037037037\n",
            "🌞🌞🌞\n",
            " Satrted TYK2 with GP model using random-ucb protocol and seed 750.\n",
            "🌊🌊🌊\n",
            "Epoch 100 | Loss: -1.36\n",
            "Epoch 200 | Loss: -1.47\n",
            "MSE: 0.18545810878276825\n",
            "R2: 0.7241293956259978\n",
            "Spearman Correlation: 0.8743751192520511\n",
            "Recall 2%: 0.02235901914536953\n",
            "Recall 5%: 0.04471803829073906\n",
            "Jaccard Score: 0.8928571428571429\n",
            "🌞🌞🌞\n",
            " Satrted TYK2 with GP model using random-ucb protocol and seed 750.\n",
            "🌊🌊🌊\n",
            "Epoch 100 | Loss: -1.54\n",
            "Epoch 200 | Loss: -1.66\n",
            "MSE: 0.3093626797199249\n",
            "R2: 0.6359715347617398\n",
            "Spearman Correlation: 0.8401935699187897\n",
            "Recall 2%: 0.020256992429494858\n",
            "Recall 5%: 0.06072419509291649\n",
            "Jaccard Score: 0.84375\n",
            "🌞🌞🌞\n",
            " Satrted TYK2 with GP model using random-ucb protocol and seed 750.\n",
            "🌊🌊🌊\n",
            "Epoch 100 | Loss: -1.71\n",
            "Epoch 200 | Loss: -1.83\n",
            "MSE: 0.2803064286708832\n",
            "R2: 0.6865713205681077\n",
            "Spearman Correlation: 0.868581102263465\n",
            "Recall 2%: 0.02082700841128826\n",
            "Recall 5%: 0.058515917509794235\n",
            "Jaccard Score: 0.8055555555555556\n",
            "🌞🌞🌞\n",
            " Satrted TYK2 with GP model using random-ucb protocol and seed 750.\n",
            "🌊🌊🌊\n",
            "Epoch 100 | Loss: -1.89\n",
            "Epoch 200 | Loss: -2.03\n",
            "MSE: 0.39835628867149353\n",
            "R2: 0.5838698443557315\n",
            "Spearman Correlation: 0.8318316385635217\n",
            "Recall 2%: 0.0187042448669672\n",
            "Recall 5%: 0.05259088799357414\n",
            "Jaccard Score: 0.7560975609756098\n"
          ]
        },
        {
          "metadata": {
            "tags": null
          },
          "name": "stderr",
          "output_type": "stream",
          "text": [
            "\n",
            "\n",
            "Seeds: 100%|██████████| 1/1 [01:07<00:00, 67.57s/it]\u001b[A\u001b[A\n",
            "\n",
            "                                                    \u001b[A\u001b[A\n",
            "Protocols: 100%|██████████| 3/3 [04:59<00:00, 94.00s/it] \u001b[A\n",
            "Datasets:  25%|██▌       | 1/4 [04:59<14:59, 299.89s/it]"
          ]
        },
        {
          "metadata": {
            "tags": null
          },
          "name": "stdout",
          "output_type": "stream",
          "text": [
            "🌞🌞🌞\n",
            " Finished TYK2 with GP model using random-ucb protocol and seed 750.\n",
            "🌊🌊🌊\n"
          ]
        },
        {
          "metadata": {
            "tags": null
          },
          "name": "stderr",
          "output_type": "stream",
          "text": [
            "\n",
            "Protocols:   0%|          | 0/3 [00:00<?, ?it/s]\u001b[A\n",
            "\n",
            "Seeds:   0%|          | 0/1 [00:00<?, ?it/s]\u001b[A\u001b[A"
          ]
        },
        {
          "metadata": {
            "tags": null
          },
          "name": "stdout",
          "output_type": "stream",
          "text": [
            "🌞🌞🌞\n",
            " Satrted Mpro with GP model using random-exploit protocol and seed 750.\n",
            "🌊🌊🌊\n",
            "Epoch 100 | Loss: 1.42\n",
            "Epoch 200 | Loss: 1.11\n",
            "MSE: 0.7957790493965149\n",
            "R2: 0.06302051667538522\n",
            "Spearman Correlation: 0.38084321268764704\n",
            "Recall 2%: 1.0000001192092896\n",
            "Recall 5%: 1.0000001192092896\n",
            "Jaccard Score: 0.5\n",
            "🌞🌞🌞\n",
            " Satrted Mpro with GP model using random-exploit protocol and seed 750.\n",
            "🌊🌊🌊\n",
            "Epoch 100 | Loss: 1.25\n",
            "Epoch 200 | Loss: 1.13\n",
            "MSE: 0.6972036361694336\n"
          ]
        },
        {
          "metadata": {
            "tags": null
          },
          "name": "stderr",
          "output_type": "stream",
          "text": [
            "/usr/local/lib/python3.10/dist-packages/gpytorch/distributions/multivariate_normal.py:319: NumericalWarning: Negative variance values detected. This is likely due to numerical instabilities. Rounding negative variances up to 1e-06.\n",
            "  warnings.warn(\n"
          ]
        },
        {
          "metadata": {
            "tags": null
          },
          "name": "stdout",
          "output_type": "stream",
          "text": [
            "🌞🌞🌞\n",
            " Satrted Mpro with GP model using random-exploit protocol and seed 750.\n",
            "🌊🌊🌊\n",
            "Epoch 100 | Loss: 1.37\n",
            "Epoch 200 | Loss: 1.34\n",
            "MSE: 0.7706800699234009\n",
            "R2: 0.17363920784511955\n",
            "Spearman Correlation: 0.5432798816396404\n",
            "Recall 2%: 1.0000001192092896\n",
            "Recall 5%: 1.0000001192092896\n",
            "Jaccard Score: 0.38461538461538464\n",
            "🌞🌞🌞\n",
            " Satrted Mpro with GP model using random-exploit protocol and seed 750.\n",
            "🌊🌊🌊\n",
            "Epoch 100 | Loss: 1.37\n",
            "Epoch 200 | Loss: 1.35\n",
            "MSE: 0.678095817565918\n"
          ]
        },
        {
          "metadata": {
            "tags": null
          },
          "name": "stderr",
          "output_type": "stream",
          "text": [
            "/usr/local/lib/python3.10/dist-packages/gpytorch/distributions/multivariate_normal.py:319: NumericalWarning: Negative variance values detected. This is likely due to numerical instabilities. Rounding negative variances up to 1e-06.\n",
            "  warnings.warn(\n"
          ]
        },
        {
          "metadata": {
            "tags": null
          },
          "name": "stdout",
          "output_type": "stream",
          "text": [
            "🌞🌞🌞\n",
            " Satrted Mpro with GP model using random-exploit protocol and seed 750.\n",
            "🌊🌊🌊\n",
            "Epoch 100 | Loss: 1.40\n",
            "Epoch 200 | Loss: 1.32\n",
            "MSE: 1.0219311714172363\n",
            "R2: 0.14272230519392437\n",
            "Spearman Correlation: 0.414185449740644\n",
            "Recall 2%: 1.0\n",
            "Recall 5%: 0.03781729191541672\n",
            "Jaccard Score: 0.5333333333333333\n",
            "🌞🌞🌞\n",
            " Satrted Mpro with GP model using random-exploit protocol and seed 750.\n",
            "🌊🌊🌊\n",
            "Epoch 100 | Loss: 1.42\n",
            "Epoch 200 | Loss: 1.38\n",
            "MSE: 0.630638599395752\n"
          ]
        },
        {
          "metadata": {
            "tags": null
          },
          "name": "stderr",
          "output_type": "stream",
          "text": [
            "/usr/local/lib/python3.10/dist-packages/gpytorch/distributions/multivariate_normal.py:319: NumericalWarning: Negative variance values detected. This is likely due to numerical instabilities. Rounding negative variances up to 1e-06.\n",
            "  warnings.warn(\n"
          ]
        },
        {
          "metadata": {
            "tags": null
          },
          "name": "stdout",
          "output_type": "stream",
          "text": [
            "🌞🌞🌞\n",
            " Satrted Mpro with GP model using random-exploit protocol and seed 750.\n",
            "🌊🌊🌊\n",
            "Epoch 100 | Loss: 1.47\n",
            "Epoch 200 | Loss: 1.43\n",
            "MSE: 0.7079864740371704\n",
            "R2: 0.2627563851645819\n",
            "Spearman Correlation: 0.6418907289181529\n",
            "Recall 2%: 1.0000001192092896\n",
            "Recall 5%: 0.0419125035405159\n",
            "Jaccard Score: 0.5789473684210527\n",
            "🌞🌞🌞\n",
            " Satrted Mpro with GP model using random-exploit protocol and seed 750.\n",
            "🌊🌊🌊\n",
            "Epoch 100 | Loss: 1.43\n",
            "Epoch 200 | Loss: 1.40\n",
            "MSE: 0.5848382115364075\n"
          ]
        },
        {
          "metadata": {
            "tags": null
          },
          "name": "stderr",
          "output_type": "stream",
          "text": [
            "/usr/local/lib/python3.10/dist-packages/gpytorch/distributions/multivariate_normal.py:319: NumericalWarning: Negative variance values detected. This is likely due to numerical instabilities. Rounding negative variances up to 1e-06.\n",
            "  warnings.warn(\n"
          ]
        },
        {
          "metadata": {
            "tags": null
          },
          "name": "stdout",
          "output_type": "stream",
          "text": [
            "🌞🌞🌞\n",
            " Satrted Mpro with GP model using random-exploit protocol and seed 750.\n",
            "🌊🌊🌊\n",
            "Epoch 100 | Loss: 1.42\n",
            "Epoch 200 | Loss: 1.39\n",
            "MSE: 1.1555970907211304\n",
            "R2: 0.0625154986791685\n",
            "Spearman Correlation: 0.4509773984911309\n",
            "Recall 2%: 1.0000001192092896\n",
            "Recall 5%: 0.03369544818997383\n",
            "Jaccard Score: 0.5652173913043478\n",
            "🌞🌞🌞\n",
            " Satrted Mpro with GP model using random-exploit protocol and seed 750.\n",
            "🌊🌊🌊\n",
            "Epoch 100 | Loss: 1.44\n",
            "Epoch 200 | Loss: 1.42\n",
            "MSE: 0.5266290903091431\n"
          ]
        },
        {
          "metadata": {
            "tags": null
          },
          "name": "stderr",
          "output_type": "stream",
          "text": [
            "/usr/local/lib/python3.10/dist-packages/gpytorch/distributions/multivariate_normal.py:319: NumericalWarning: Negative variance values detected. This is likely due to numerical instabilities. Rounding negative variances up to 1e-06.\n",
            "  warnings.warn(\n"
          ]
        },
        {
          "metadata": {
            "tags": null
          },
          "name": "stdout",
          "output_type": "stream",
          "text": [
            "🌞🌞🌞\n",
            " Satrted Mpro with GP model using random-exploit protocol and seed 750.\n",
            "🌊🌊🌊\n",
            "Epoch 100 | Loss: 1.42\n",
            "Epoch 200 | Loss: 1.39\n",
            "MSE: 0.8437732458114624\n",
            "R2: 0.12832846605430892\n",
            "Spearman Correlation: 0.3911336120014606\n",
            "Recall 2%: 1.000000238418579\n",
            "Recall 5%: 0.05454501137137413\n",
            "Jaccard Score: 0.4482758620689655\n",
            "🌞🌞🌞\n",
            " Satrted Mpro with GP model using random-exploit protocol and seed 750.\n",
            "🌊🌊🌊\n",
            "Epoch 100 | Loss: 1.41\n",
            "Epoch 200 | Loss: 1.39\n",
            "MSE: 0.5136085152626038\n"
          ]
        },
        {
          "metadata": {
            "tags": null
          },
          "name": "stderr",
          "output_type": "stream",
          "text": [
            "/usr/local/lib/python3.10/dist-packages/gpytorch/distributions/multivariate_normal.py:319: NumericalWarning: Negative variance values detected. This is likely due to numerical instabilities. Rounding negative variances up to 1e-06.\n",
            "  warnings.warn(\n"
          ]
        },
        {
          "metadata": {
            "tags": null
          },
          "name": "stdout",
          "output_type": "stream",
          "text": [
            "🌞🌞🌞\n",
            " Satrted Mpro with GP model using random-exploit protocol and seed 750.\n",
            "🌊🌊🌊\n",
            "Epoch 100 | Loss: 1.38\n",
            "Epoch 200 | Loss: 1.36\n",
            "MSE: 0.9279000163078308\n",
            "R2: 0.22759931483988427\n",
            "Spearman Correlation: 0.5299059648688922\n",
            "Recall 2%: 1.0\n",
            "Recall 5%: 0.051893122494220734\n",
            "Jaccard Score: 0.45454545454545453\n",
            "🌞🌞🌞\n",
            " Satrted Mpro with GP model using random-exploit protocol and seed 750.\n",
            "🌊🌊🌊\n",
            "Epoch 100 | Loss: 1.38\n",
            "Epoch 200 | Loss: 1.36\n",
            "MSE: 0.5081356167793274\n"
          ]
        },
        {
          "metadata": {
            "tags": null
          },
          "name": "stderr",
          "output_type": "stream",
          "text": [
            "/usr/local/lib/python3.10/dist-packages/gpytorch/distributions/multivariate_normal.py:319: NumericalWarning: Negative variance values detected. This is likely due to numerical instabilities. Rounding negative variances up to 1e-06.\n",
            "  warnings.warn(\n"
          ]
        },
        {
          "metadata": {
            "tags": null
          },
          "name": "stdout",
          "output_type": "stream",
          "text": [
            "🌞🌞🌞\n",
            " Satrted Mpro with GP model using random-exploit protocol and seed 750.\n",
            "🌊🌊🌊\n",
            "Epoch 100 | Loss: 1.34\n",
            "Epoch 200 | Loss: 1.32\n",
            "MSE: 0.7765082120895386\n",
            "R2: 0.16569044736066374\n",
            "Spearman Correlation: 0.5039478540636553\n",
            "Recall 2%: 0.020854393020272255\n",
            "Recall 5%: 0.039544589817523956\n",
            "Jaccard Score: 0.6363636363636364\n",
            "🌞🌞🌞\n",
            " Satrted Mpro with GP model using random-exploit protocol and seed 750.\n",
            "🌊🌊🌊\n",
            "Epoch 100 | Loss: 1.34\n",
            "Epoch 200 | Loss: 1.33\n",
            "MSE: 0.5059611797332764\n"
          ]
        },
        {
          "metadata": {
            "tags": null
          },
          "name": "stderr",
          "output_type": "stream",
          "text": [
            "/usr/local/lib/python3.10/dist-packages/gpytorch/distributions/multivariate_normal.py:319: NumericalWarning: Negative variance values detected. This is likely due to numerical instabilities. Rounding negative variances up to 1e-06.\n",
            "  warnings.warn(\n"
          ]
        },
        {
          "metadata": {
            "tags": null
          },
          "name": "stdout",
          "output_type": "stream",
          "text": [
            "🌞🌞🌞\n",
            " Satrted Mpro with GP model using random-exploit protocol and seed 750.\n",
            "🌊🌊🌊\n",
            "Epoch 100 | Loss: 1.33\n",
            "Epoch 200 | Loss: 1.31\n",
            "MSE: 0.5481749773025513\n",
            "R2: 0.21485464370325202\n",
            "Spearman Correlation: 0.494426966573219\n",
            "Recall 2%: 0.020787037909030914\n",
            "Recall 5%: 0.057607050985097885\n",
            "Jaccard Score: 0.5384615384615384\n",
            "🌞🌞🌞\n",
            " Satrted Mpro with GP model using random-exploit protocol and seed 750.\n",
            "🌊🌊🌊\n",
            "Epoch 100 | Loss: 1.32\n",
            "Epoch 200 | Loss: 1.30\n",
            "MSE: 0.504831850528717\n"
          ]
        },
        {
          "metadata": {
            "tags": null
          },
          "name": "stderr",
          "output_type": "stream",
          "text": [
            "/usr/local/lib/python3.10/dist-packages/gpytorch/distributions/multivariate_normal.py:319: NumericalWarning: Negative variance values detected. This is likely due to numerical instabilities. Rounding negative variances up to 1e-06.\n",
            "  warnings.warn(\n"
          ]
        },
        {
          "metadata": {
            "tags": null
          },
          "name": "stdout",
          "output_type": "stream",
          "text": [
            "🌞🌞🌞\n",
            " Satrted Mpro with GP model using random-exploit protocol and seed 750.\n",
            "🌊🌊🌊\n",
            "Epoch 100 | Loss: 1.30\n",
            "Epoch 200 | Loss: 1.28\n",
            "MSE: 0.5431857705116272\n",
            "R2: 0.2850476927939112\n",
            "Spearman Correlation: 0.5688190192468473\n",
            "Recall 2%: 0.018585627898573875\n",
            "Recall 5%: 0.0494735948741436\n",
            "Jaccard Score: 0.5348837209302325\n",
            "🌞🌞🌞\n",
            " Satrted Mpro with GP model using random-exploit protocol and seed 750.\n",
            "🌊🌊🌊\n",
            "Epoch 100 | Loss: 1.29\n",
            "Epoch 200 | Loss: 1.27\n",
            "MSE: 0.44415974617004395\n"
          ]
        },
        {
          "metadata": {
            "tags": null
          },
          "name": "stderr",
          "output_type": "stream",
          "text": [
            "/usr/local/lib/python3.10/dist-packages/gpytorch/distributions/multivariate_normal.py:319: NumericalWarning: Negative variance values detected. This is likely due to numerical instabilities. Rounding negative variances up to 1e-06.\n",
            "  warnings.warn(\n"
          ]
        },
        {
          "metadata": {
            "tags": null
          },
          "name": "stdout",
          "output_type": "stream",
          "text": [
            "🌞🌞🌞\n",
            " Satrted Mpro with GP model using random-exploit protocol and seed 750.\n",
            "🌊🌊🌊\n",
            "Epoch 100 | Loss: 1.27\n",
            "Epoch 200 | Loss: 1.25\n",
            "MSE: 0.5364620685577393\n",
            "R2: 0.16593762376124632\n",
            "Spearman Correlation: 0.5859597952161609\n",
            "Recall 2%: 0.012866204604506493\n",
            "Recall 5%: 0.0437968447804451\n",
            "Jaccard Score: 0.5652173913043478\n"
          ]
        },
        {
          "metadata": {
            "tags": null
          },
          "name": "stderr",
          "output_type": "stream",
          "text": [
            "\n",
            "\n",
            "Seeds: 100%|██████████| 1/1 [01:12<00:00, 72.71s/it]\u001b[A\u001b[A\n",
            "\n",
            "                                                    \u001b[A\u001b[A\n",
            "Protocols:  33%|███▎      | 1/3 [01:12<02:25, 72.73s/it]\u001b[A"
          ]
        },
        {
          "metadata": {
            "tags": null
          },
          "name": "stdout",
          "output_type": "stream",
          "text": [
            "🌞🌞🌞\n",
            " Finished Mpro with GP model using random-exploit protocol and seed 750.\n",
            "🌊🌊🌊\n"
          ]
        },
        {
          "metadata": {
            "tags": null
          },
          "name": "stderr",
          "output_type": "stream",
          "text": [
            "\n",
            "\n",
            "Seeds:   0%|          | 0/1 [00:00<?, ?it/s]\u001b[A\u001b[A"
          ]
        },
        {
          "metadata": {
            "tags": null
          },
          "name": "stdout",
          "output_type": "stream",
          "text": [
            "🌞🌞🌞\n",
            " Satrted Mpro with GP model using random-explore-exploit protocol and seed 750.\n",
            "🌊🌊🌊\n",
            "Epoch 100 | Loss: 1.42\n",
            "Epoch 200 | Loss: 1.11\n",
            "MSE: 0.7957790493965149\n",
            "R2: 0.06302051667538522\n",
            "Spearman Correlation: 0.38084321268764704\n",
            "Recall 2%: 1.0000001192092896\n",
            "Recall 5%: 1.0000001192092896\n",
            "Jaccard Score: 0.5\n",
            "🌞🌞🌞\n",
            " Satrted Mpro with GP model using random-explore-exploit protocol and seed 750.\n",
            "🌊🌊🌊\n",
            "Epoch 100 | Loss: 1.19\n",
            "Epoch 200 | Loss: 1.09\n",
            "MSE: 0.5454590320587158\n",
            "R2: 0.1374078382696705\n",
            "Spearman Correlation: 0.46890019733414384\n",
            "Recall 2%: 1.0\n",
            "Recall 5%: 1.0\n",
            "Jaccard Score: 0.5\n",
            "🌞🌞🌞\n",
            " Satrted Mpro with GP model using random-explore-exploit protocol and seed 750.\n",
            "🌊🌊🌊\n",
            "Epoch 100 | Loss: 0.91\n",
            "Epoch 200 | Loss: 0.78\n",
            "MSE: 0.6305533051490784\n",
            "R2: 0.04619896392201284\n",
            "Spearman Correlation: 0.1669945727645763\n",
            "Recall 2%: 1.0\n",
            "Recall 5%: 0.04739748686552048\n",
            "Jaccard Score: 0.4\n",
            "🌞🌞🌞\n",
            " Satrted Mpro with GP model using random-explore-exploit protocol and seed 750.\n",
            "🌊🌊🌊\n",
            "Epoch 100 | Loss: 0.87\n",
            "Epoch 200 | Loss: 0.79\n",
            "MSE: 0.6526811718940735\n"
          ]
        },
        {
          "metadata": {
            "tags": null
          },
          "name": "stderr",
          "output_type": "stream",
          "text": [
            "/usr/local/lib/python3.10/dist-packages/gpytorch/distributions/multivariate_normal.py:319: NumericalWarning: Negative variance values detected. This is likely due to numerical instabilities. Rounding negative variances up to 1e-06.\n",
            "  warnings.warn(\n"
          ]
        },
        {
          "metadata": {
            "tags": null
          },
          "name": "stdout",
          "output_type": "stream",
          "text": [
            "🌞🌞🌞\n",
            " Satrted Mpro with GP model using random-explore-exploit protocol and seed 750.\n",
            "🌊🌊🌊\n",
            "Epoch 100 | Loss: 1.31\n",
            "Epoch 200 | Loss: 1.29\n",
            "MSE: 0.40297698974609375\n",
            "R2: 0.29168877447823816\n",
            "Spearman Correlation: 0.5393537428517146\n",
            "Recall 2%: 1.0000001192092896\n",
            "Recall 5%: 0.038377586752176285\n",
            "Jaccard Score: 0.5789473684210527\n",
            "🌞🌞🌞\n",
            " Satrted Mpro with GP model using random-explore-exploit protocol and seed 750.\n",
            "🌊🌊🌊\n",
            "Epoch 100 | Loss: 1.27\n",
            "Epoch 200 | Loss: 1.25\n",
            "MSE: 0.6221960783004761\n"
          ]
        },
        {
          "metadata": {
            "tags": null
          },
          "name": "stderr",
          "output_type": "stream",
          "text": [
            "/usr/local/lib/python3.10/dist-packages/gpytorch/distributions/multivariate_normal.py:319: NumericalWarning: Negative variance values detected. This is likely due to numerical instabilities. Rounding negative variances up to 1e-06.\n",
            "  warnings.warn(\n"
          ]
        },
        {
          "metadata": {
            "tags": null
          },
          "name": "stdout",
          "output_type": "stream",
          "text": [
            "🌞🌞🌞\n",
            " Satrted Mpro with GP model using random-explore-exploit protocol and seed 750.\n",
            "🌊🌊🌊\n",
            "Epoch 100 | Loss: 1.33\n",
            "Epoch 200 | Loss: 1.30\n",
            "MSE: 0.4860624074935913\n",
            "R2: 0.21716667733880501\n",
            "Spearman Correlation: 0.5254286315423605\n",
            "Recall 2%: 0.9999998807907104\n",
            "Recall 5%: 0.03089769370853901\n",
            "Jaccard Score: 0.5\n",
            "🌞🌞🌞\n",
            " Satrted Mpro with GP model using random-explore-exploit protocol and seed 750.\n",
            "🌊🌊🌊\n",
            "Epoch 100 | Loss: 1.30\n",
            "Epoch 200 | Loss: 1.28\n",
            "MSE: 0.592995822429657\n"
          ]
        },
        {
          "metadata": {
            "tags": null
          },
          "name": "stderr",
          "output_type": "stream",
          "text": [
            "/usr/local/lib/python3.10/dist-packages/gpytorch/distributions/multivariate_normal.py:319: NumericalWarning: Negative variance values detected. This is likely due to numerical instabilities. Rounding negative variances up to 1e-06.\n",
            "  warnings.warn(\n"
          ]
        },
        {
          "metadata": {
            "tags": null
          },
          "name": "stdout",
          "output_type": "stream",
          "text": [
            "🌞🌞🌞\n",
            " Satrted Mpro with GP model using random-explore-exploit protocol and seed 750.\n",
            "🌊🌊🌊\n",
            "Epoch 100 | Loss: 1.36\n",
            "Epoch 200 | Loss: 1.34\n",
            "MSE: 0.601942777633667\n",
            "R2: 0.19938465893118995\n",
            "Spearman Correlation: 0.5972942981033729\n",
            "Recall 2%: 1.0\n",
            "Recall 5%: 0.04863409698009491\n",
            "Jaccard Score: 0.68\n",
            "🌞🌞🌞\n",
            " Satrted Mpro with GP model using random-explore-exploit protocol and seed 750.\n",
            "🌊🌊🌊\n",
            "Epoch 100 | Loss: 1.33\n",
            "Epoch 200 | Loss: 1.32\n",
            "MSE: 0.5418187379837036\n"
          ]
        },
        {
          "metadata": {
            "tags": null
          },
          "name": "stderr",
          "output_type": "stream",
          "text": [
            "/usr/local/lib/python3.10/dist-packages/gpytorch/distributions/multivariate_normal.py:319: NumericalWarning: Negative variance values detected. This is likely due to numerical instabilities. Rounding negative variances up to 1e-06.\n",
            "  warnings.warn(\n"
          ]
        },
        {
          "metadata": {
            "tags": null
          },
          "name": "stdout",
          "output_type": "stream",
          "text": [
            "🌞🌞🌞\n",
            " Satrted Mpro with GP model using random-explore-exploit protocol and seed 750.\n",
            "🌊🌊🌊\n",
            "Epoch 100 | Loss: 1.36\n",
            "Epoch 200 | Loss: 1.34\n",
            "MSE: 0.621934711933136\n",
            "R2: 0.24075094484319381\n",
            "Spearman Correlation: 0.595010071331306\n",
            "Recall 2%: 1.0\n",
            "Recall 5%: 0.04911263287067413\n",
            "Jaccard Score: 0.6551724137931034\n",
            "🌞🌞🌞\n",
            " Satrted Mpro with GP model using random-explore-exploit protocol and seed 750.\n",
            "🌊🌊🌊\n",
            "Epoch 100 | Loss: 1.32\n",
            "Epoch 200 | Loss: 1.31\n",
            "MSE: 0.529102623462677\n"
          ]
        },
        {
          "metadata": {
            "tags": null
          },
          "name": "stderr",
          "output_type": "stream",
          "text": [
            "/usr/local/lib/python3.10/dist-packages/gpytorch/distributions/multivariate_normal.py:319: NumericalWarning: Negative variance values detected. This is likely due to numerical instabilities. Rounding negative variances up to 1e-06.\n",
            "  warnings.warn(\n"
          ]
        },
        {
          "metadata": {
            "tags": null
          },
          "name": "stdout",
          "output_type": "stream",
          "text": [
            "🌞🌞🌞\n",
            " Satrted Mpro with GP model using random-explore-exploit protocol and seed 750.\n",
            "🌊🌊🌊\n",
            "Epoch 100 | Loss: 1.35\n",
            "Epoch 200 | Loss: 1.33\n",
            "MSE: 0.4242921769618988\n",
            "R2: 0.30314003565349823\n",
            "Spearman Correlation: 0.6806299070831188\n",
            "Recall 2%: 0.02078164927661419\n",
            "Recall 5%: 0.041308049112558365\n",
            "Jaccard Score: 0.6875\n",
            "🌞🌞🌞\n",
            " Satrted Mpro with GP model using random-explore-exploit protocol and seed 750.\n",
            "🌊🌊🌊\n",
            "Epoch 100 | Loss: 1.31\n",
            "Epoch 200 | Loss: 1.29\n",
            "MSE: 0.5246913433074951\n"
          ]
        },
        {
          "metadata": {
            "tags": null
          },
          "name": "stderr",
          "output_type": "stream",
          "text": [
            "/usr/local/lib/python3.10/dist-packages/gpytorch/distributions/multivariate_normal.py:319: NumericalWarning: Negative variance values detected. This is likely due to numerical instabilities. Rounding negative variances up to 1e-06.\n",
            "  warnings.warn(\n"
          ]
        },
        {
          "metadata": {
            "tags": null
          },
          "name": "stdout",
          "output_type": "stream",
          "text": [
            "🌞🌞🌞\n",
            " Satrted Mpro with GP model using random-explore-exploit protocol and seed 750.\n",
            "🌊🌊🌊\n",
            "Epoch 100 | Loss: 1.35\n",
            "Epoch 200 | Loss: 1.33\n",
            "MSE: 0.3181392550468445\n",
            "R2: 0.4523912474729763\n",
            "Spearman Correlation: 0.6820789775980541\n",
            "Recall 2%: 0.020662657916545868\n",
            "Recall 5%: 0.06017300486564636\n",
            "Jaccard Score: 0.6216216216216216\n",
            "🌞🌞🌞\n",
            " Satrted Mpro with GP model using random-explore-exploit protocol and seed 750.\n",
            "🌊🌊🌊\n",
            "Epoch 100 | Loss: 1.29\n",
            "Epoch 200 | Loss: 1.27\n",
            "MSE: 0.529305100440979\n"
          ]
        },
        {
          "metadata": {
            "tags": null
          },
          "name": "stderr",
          "output_type": "stream",
          "text": [
            "/usr/local/lib/python3.10/dist-packages/gpytorch/distributions/multivariate_normal.py:319: NumericalWarning: Negative variance values detected. This is likely due to numerical instabilities. Rounding negative variances up to 1e-06.\n",
            "  warnings.warn(\n"
          ]
        },
        {
          "metadata": {
            "tags": null
          },
          "name": "stdout",
          "output_type": "stream",
          "text": [
            "🌞🌞🌞\n",
            " Satrted Mpro with GP model using random-explore-exploit protocol and seed 750.\n",
            "🌊🌊🌊\n",
            "Epoch 100 | Loss: 1.30\n",
            "Epoch 200 | Loss: 1.28\n",
            "MSE: 0.38758236169815063\n",
            "R2: 0.16032472378180318\n",
            "Spearman Correlation: 0.5193588354309723\n",
            "Recall 2%: 0.016636548563838005\n",
            "Recall 5%: 0.05184691399335861\n",
            "Jaccard Score: 0.5714285714285714\n",
            "🌞🌞🌞\n",
            " Satrted Mpro with GP model using random-explore-exploit protocol and seed 750.\n",
            "🌊🌊🌊\n",
            "Epoch 100 | Loss: 1.26\n",
            "Epoch 200 | Loss: 1.25\n",
            "MSE: 0.478805810213089\n"
          ]
        },
        {
          "metadata": {
            "tags": null
          },
          "name": "stderr",
          "output_type": "stream",
          "text": [
            "/usr/local/lib/python3.10/dist-packages/gpytorch/distributions/multivariate_normal.py:319: NumericalWarning: Negative variance values detected. This is likely due to numerical instabilities. Rounding negative variances up to 1e-06.\n",
            "  warnings.warn(\n"
          ]
        },
        {
          "metadata": {
            "tags": null
          },
          "name": "stdout",
          "output_type": "stream",
          "text": [
            "🌞🌞🌞\n",
            " Satrted Mpro with GP model using random-explore-exploit protocol and seed 750.\n",
            "🌊🌊🌊\n",
            "Epoch 100 | Loss: 1.28\n",
            "Epoch 200 | Loss: 1.26\n",
            "MSE: 0.31716442108154297\n",
            "R2: 0.38846987388984466\n",
            "Spearman Correlation: 0.6667838806913166\n",
            "Recall 2%: 0.017319198697805405\n",
            "Recall 5%: 0.04934919998049736\n",
            "Jaccard Score: 0.6363636363636364\n"
          ]
        },
        {
          "metadata": {
            "tags": null
          },
          "name": "stderr",
          "output_type": "stream",
          "text": [
            "\n",
            "\n",
            "Seeds: 100%|██████████| 1/1 [01:02<00:00, 62.59s/it]\u001b[A\u001b[A\n",
            "\n",
            "                                                    \u001b[A\u001b[A\n",
            "Protocols:  67%|██████▋   | 2/3 [02:15<01:06, 66.79s/it]\u001b[A"
          ]
        },
        {
          "metadata": {
            "tags": null
          },
          "name": "stdout",
          "output_type": "stream",
          "text": [
            "🌞🌞🌞\n",
            " Finished Mpro with GP model using random-explore-exploit protocol and seed 750.\n",
            "🌊🌊🌊\n"
          ]
        },
        {
          "metadata": {
            "tags": null
          },
          "name": "stderr",
          "output_type": "stream",
          "text": [
            "\n",
            "\n",
            "Seeds:   0%|          | 0/1 [00:00<?, ?it/s]\u001b[A\u001b[A"
          ]
        },
        {
          "metadata": {
            "tags": null
          },
          "name": "stdout",
          "output_type": "stream",
          "text": [
            "🌞🌞🌞\n",
            " Satrted Mpro with GP model using random-ucb protocol and seed 750.\n",
            "🌊🌊🌊\n",
            "Epoch 100 | Loss: 1.42\n",
            "Epoch 200 | Loss: 1.11\n",
            "MSE: 0.7957790493965149\n",
            "R2: 0.06302051667538522\n",
            "Spearman Correlation: 0.38084321268764704\n",
            "Recall 2%: 1.0000001192092896\n",
            "Recall 5%: 1.0000001192092896\n",
            "Jaccard Score: 0.5\n",
            "🌞🌞🌞\n",
            " Satrted Mpro with GP model using random-ucb protocol and seed 750.\n",
            "🌊🌊🌊\n",
            "Epoch 100 | Loss: 1.14\n",
            "Epoch 200 | Loss: 1.10\n",
            "MSE: 0.5473918914794922\n",
            "R2: 0.14691704498582303\n",
            "Spearman Correlation: 0.4794896802729506\n",
            "Recall 2%: 1.0\n",
            "Recall 5%: 1.0\n",
            "Jaccard Score: 0.38461538461538464\n",
            "🌞🌞🌞\n",
            " Satrted Mpro with GP model using random-ucb protocol and seed 750.\n",
            "🌊🌊🌊\n",
            "Epoch 100 | Loss: 0.73\n",
            "Epoch 200 | Loss: 0.72\n",
            "MSE: 0.4102545976638794\n",
            "R2: 0.4257010671691701\n",
            "Spearman Correlation: 0.6113087076242056\n",
            "Recall 2%: 1.0\n",
            "Recall 5%: 0.05189161375164986\n",
            "Jaccard Score: 0.42857142857142855\n",
            "🌞🌞🌞\n",
            " Satrted Mpro with GP model using random-ucb protocol and seed 750.\n",
            "🌊🌊🌊\n",
            "Epoch 100 | Loss: 0.41\n",
            "Epoch 200 | Loss: 0.39\n",
            "MSE: 0.1009610965847969\n",
            "R2: 0.8356080533683072\n",
            "Spearman Correlation: 0.8539040266102261\n",
            "Recall 2%: 1.0000001192092896\n",
            "Recall 5%: 0.040774352848529816\n",
            "Jaccard Score: 0.7647058823529411\n",
            "🌞🌞🌞\n",
            " Satrted Mpro with GP model using random-ucb protocol and seed 750.\n",
            "🌊🌊🌊\n",
            "Epoch 100 | Loss: 0.08\n",
            "Epoch 200 | Loss: 0.06\n",
            "MSE: 0.08986856043338776\n",
            "R2: 0.8783976085738703\n",
            "Spearman Correlation: 0.9023396979163731\n",
            "Recall 2%: 1.0\n",
            "Recall 5%: 0.03276382386684418\n",
            "Jaccard Score: 0.7894736842105263\n",
            "🌞🌞🌞\n",
            " Satrted Mpro with GP model using random-ucb protocol and seed 750.\n",
            "🌊🌊🌊\n",
            "Epoch 100 | Loss: -0.06\n",
            "Epoch 200 | Loss: -0.08\n",
            "MSE: 0.0947328731417656\n",
            "R2: 0.8632035958369131\n",
            "Spearman Correlation: 0.9031894957523262\n",
            "Recall 2%: 1.0\n",
            "Recall 5%: 0.056734416633844376\n",
            "Jaccard Score: 0.9090909090909091\n",
            "🌞🌞🌞\n",
            " Satrted Mpro with GP model using random-ucb protocol and seed 750.\n",
            "🌊🌊🌊\n",
            "Epoch 100 | Loss: -0.18\n",
            "Epoch 200 | Loss: -0.19\n",
            "MSE: 0.09050428867340088\n",
            "R2: 0.8489142244204453\n",
            "Spearman Correlation: 0.8788322393850883\n",
            "Recall 2%: 1.0\n",
            "Recall 5%: 0.05095357447862625\n",
            "Jaccard Score: 0.8076923076923077\n",
            "🌞🌞🌞\n",
            " Satrted Mpro with GP model using random-ucb protocol and seed 750.\n",
            "🌊🌊🌊\n",
            "Epoch 100 | Loss: -0.26\n",
            "Epoch 200 | Loss: -0.27\n",
            "MSE: 0.09214538335800171\n",
            "R2: 0.8718975651827063\n",
            "Spearman Correlation: 0.9009343240896218\n",
            "Recall 2%: 0.02224937081336975\n",
            "Recall 5%: 0.0444987416267395\n",
            "Jaccard Score: 0.9285714285714286\n",
            "🌞🌞🌞\n",
            " Satrted Mpro with GP model using random-ucb protocol and seed 750.\n",
            "🌊🌊🌊\n",
            "Epoch 100 | Loss: -0.34\n",
            "Epoch 200 | Loss: -0.35\n",
            "MSE: 0.06311201304197311\n",
            "R2: 0.902851600963067\n",
            "Spearman Correlation: 0.8709032254156078\n",
            "Recall 2%: 0.020555812865495682\n",
            "Recall 5%: 0.06162203848361969\n",
            "Jaccard Score: 0.75\n",
            "🌞🌞🌞\n",
            " Satrted Mpro with GP model using random-ucb protocol and seed 750.\n",
            "🌊🌊🌊\n",
            "Epoch 100 | Loss: -0.51\n",
            "Epoch 200 | Loss: -0.52\n",
            "MSE: 0.06337443739175797\n",
            "R2: 0.9124643625065118\n",
            "Spearman Correlation: 0.9206333016653957\n",
            "Recall 2%: 0.018283823505043983\n",
            "Recall 5%: 0.05430278182029724\n",
            "Jaccard Score: 0.8333333333333334\n",
            "🌞🌞🌞\n",
            " Satrted Mpro with GP model using random-ucb protocol and seed 750.\n",
            "🌊🌊🌊\n",
            "Epoch 100 | Loss: -0.55\n",
            "Epoch 200 | Loss: -0.56\n",
            "MSE: 0.07761926203966141\n",
            "R2: 0.8908102906947925\n",
            "Spearman Correlation: 0.9159768128870686\n",
            "Recall 2%: 0.01677069626748562\n",
            "Recall 5%: 0.050312090665102005\n",
            "Jaccard Score: 0.8\n"
          ]
        },
        {
          "metadata": {
            "tags": null
          },
          "name": "stderr",
          "output_type": "stream",
          "text": [
            "\n",
            "\n",
            "Seeds: 100%|██████████| 1/1 [00:34<00:00, 34.85s/it]\u001b[A\u001b[A\n",
            "\n",
            "                                                    \u001b[A\u001b[A\n",
            "Protocols: 100%|██████████| 3/3 [02:50<00:00, 52.22s/it]\u001b[A\n",
            "Datasets:  50%|█████     | 2/4 [07:50<07:27, 223.66s/it]"
          ]
        },
        {
          "metadata": {
            "tags": null
          },
          "name": "stdout",
          "output_type": "stream",
          "text": [
            "🌞🌞🌞\n",
            " Finished Mpro with GP model using random-ucb protocol and seed 750.\n",
            "🌊🌊🌊\n"
          ]
        },
        {
          "metadata": {
            "tags": null
          },
          "name": "stderr",
          "output_type": "stream",
          "text": [
            "\n",
            "Protocols:   0%|          | 0/3 [00:00<?, ?it/s]\u001b[A\n",
            "\n",
            "Seeds:   0%|          | 0/1 [00:00<?, ?it/s]\u001b[A\u001b[A"
          ]
        },
        {
          "metadata": {
            "tags": null
          },
          "name": "stdout",
          "output_type": "stream",
          "text": [
            "🌞🌞🌞\n",
            " Satrted D2R with GP model using random-exploit protocol and seed 750.\n",
            "🌊🌊🌊\n",
            "Epoch 100 | Loss: 1.71\n",
            "Epoch 200 | Loss: 1.47\n",
            "MSE: 1.3170442581176758\n",
            "R2: -0.025022634103337493\n",
            "Spearman Correlation: -0.21678321678321683\n",
            "Recall 2%: 0.9999999403953552\n",
            "Recall 5%: 0.9999999403953552\n",
            "Jaccard Score: 0.3333333333333333\n",
            "🌞🌞🌞\n",
            " Satrted D2R with GP model using random-exploit protocol and seed 750.\n",
            "🌊🌊🌊\n",
            "Epoch 100 | Loss: 1.59\n",
            "Epoch 200 | Loss: 1.48\n",
            "MSE: 2.0572519302368164\n"
          ]
        },
        {
          "metadata": {
            "tags": null
          },
          "name": "stderr",
          "output_type": "stream",
          "text": [
            "/usr/local/lib/python3.10/dist-packages/gpytorch/distributions/multivariate_normal.py:319: NumericalWarning: Negative variance values detected. This is likely due to numerical instabilities. Rounding negative variances up to 1e-06.\n",
            "  warnings.warn(\n"
          ]
        },
        {
          "metadata": {
            "tags": null
          },
          "name": "stdout",
          "output_type": "stream",
          "text": [
            "🌞🌞🌞\n",
            " Satrted D2R with GP model using random-exploit protocol and seed 750.\n",
            "🌊🌊🌊\n",
            "Epoch 100 | Loss: 1.97\n",
            "Epoch 200 | Loss: 1.94\n",
            "MSE: 2.1936981678009033\n",
            "R2: 0.36862988355743265\n",
            "Spearman Correlation: 0.7770897832817338\n",
            "Recall 2%: 1.0\n",
            "Recall 5%: 1.0\n",
            "Jaccard Score: 0.5\n",
            "🌞🌞🌞\n",
            " Satrted D2R with GP model using random-exploit protocol and seed 750.\n",
            "🌊🌊🌊\n",
            "Epoch 100 | Loss: 1.91\n",
            "Epoch 200 | Loss: 1.91\n",
            "MSE: 1.9443962574005127\n",
            "🌞🌞🌞\n",
            " Satrted D2R with GP model using random-exploit protocol and seed 750.\n",
            "🌊🌊🌊\n",
            "Epoch 100 | Loss: 1.88\n",
            "Epoch 200 | Loss: 1.88\n",
            "MSE: 1.9767404794692993\n",
            "R2: 0.29658502109304197\n",
            "Spearman Correlation: 0.4914111879595291\n",
            "Recall 2%: 1.0000001192092896\n",
            "Recall 5%: 0.04874739423394203\n",
            "Jaccard Score: 0.5\n",
            "🌞🌞🌞\n",
            " Satrted D2R with GP model using random-exploit protocol and seed 750.\n",
            "🌊🌊🌊\n",
            "Epoch 100 | Loss: 1.85\n",
            "Epoch 200 | Loss: 1.85\n",
            "MSE: 1.936692714691162\n",
            "🌞🌞🌞\n",
            " Satrted D2R with GP model using random-exploit protocol and seed 750.\n",
            "🌊🌊🌊\n",
            "Epoch 100 | Loss: 1.91\n",
            "Epoch 200 | Loss: 1.91\n",
            "MSE: 1.3316328525543213\n",
            "R2: 0.2623175987539057\n",
            "Spearman Correlation: 0.49015463647392776\n",
            "Recall 2%: 1.000000238418579\n",
            "Recall 5%: 0.03845951333642006\n",
            "Jaccard Score: 0.5789473684210527\n",
            "🌞🌞🌞\n",
            " Satrted D2R with GP model using random-exploit protocol and seed 750.\n",
            "🌊🌊🌊\n",
            "Epoch 100 | Loss: 1.84\n",
            "Epoch 200 | Loss: 1.84\n",
            "MSE: 1.8536245822906494\n",
            "🌞🌞🌞\n",
            " Satrted D2R with GP model using random-exploit protocol and seed 750.\n",
            "🌊🌊🌊\n",
            "Epoch 100 | Loss: 2.02\n",
            "Epoch 200 | Loss: 2.02\n",
            "MSE: 1.5846261978149414\n",
            "R2: 0.2154131127872112\n",
            "Spearman Correlation: 0.43361863787583443\n",
            "Recall 2%: 1.0000001192092896\n",
            "Recall 5%: 0.026070857420563698\n",
            "Jaccard Score: 0.44\n",
            "🌞🌞🌞\n",
            " Satrted D2R with GP model using random-exploit protocol and seed 750.\n",
            "🌊🌊🌊\n",
            "Epoch 100 | Loss: 1.96\n",
            "Epoch 200 | Loss: 1.96\n",
            "MSE: 1.6159907579421997\n",
            "🌞🌞🌞\n",
            " Satrted D2R with GP model using random-exploit protocol and seed 750.\n",
            "🌊🌊🌊\n",
            "Epoch 100 | Loss: 1.95\n",
            "Epoch 200 | Loss: 1.95\n",
            "MSE: 1.8037129640579224\n",
            "R2: 0.3672665446610185\n",
            "Spearman Correlation: 0.4947935663070287\n",
            "Recall 2%: 1.0000001192092896\n",
            "Recall 5%: 0.05243406444787979\n",
            "Jaccard Score: 0.6153846153846154\n",
            "🌞🌞🌞\n",
            " Satrted D2R with GP model using random-exploit protocol and seed 750.\n",
            "🌊🌊🌊\n",
            "Epoch 100 | Loss: 1.91\n",
            "Epoch 200 | Loss: 1.91\n",
            "MSE: 1.547243595123291\n",
            "🌞🌞🌞\n",
            " Satrted D2R with GP model using random-exploit protocol and seed 750.\n",
            "🌊🌊🌊\n",
            "Epoch 100 | Loss: 1.87\n",
            "Epoch 200 | Loss: 1.87\n",
            "MSE: 2.2218868732452393\n",
            "R2: 0.3154157318755949\n",
            "Spearman Correlation: 0.3651513107503629\n",
            "Recall 2%: 1.000000238418579\n",
            "Recall 5%: 0.0526876337826252\n",
            "Jaccard Score: 0.4117647058823529\n",
            "🌞🌞🌞\n",
            " Satrted D2R with GP model using random-exploit protocol and seed 750.\n",
            "🌊🌊🌊\n",
            "Epoch 100 | Loss: 1.86\n",
            "Epoch 200 | Loss: 1.86\n",
            "MSE: 1.4716839790344238\n",
            "🌞🌞🌞\n",
            " Satrted D2R with GP model using random-exploit protocol and seed 750.\n",
            "🌊🌊🌊\n",
            "Epoch 100 | Loss: 1.86\n",
            "Epoch 200 | Loss: 1.86\n",
            "MSE: 1.8965662717819214\n",
            "R2: 0.3894819831032291\n",
            "Spearman Correlation: 0.5536262279135679\n",
            "Recall 2%: 0.02429794892668724\n",
            "Recall 5%: 0.045491620898246765\n",
            "Jaccard Score: 0.4594594594594595\n",
            "🌞🌞🌞\n",
            " Satrted D2R with GP model using random-exploit protocol and seed 750.\n",
            "🌊🌊🌊\n",
            "Epoch 100 | Loss: 1.83\n",
            "Epoch 200 | Loss: 1.83\n",
            "MSE: 1.4426685571670532\n",
            "🌞🌞🌞\n",
            " Satrted D2R with GP model using random-exploit protocol and seed 750.\n",
            "🌊🌊🌊\n",
            "Epoch 100 | Loss: 1.80\n",
            "Epoch 200 | Loss: 1.80\n",
            "MSE: 2.7710790634155273\n",
            "R2: 0.35523512526442025\n",
            "Spearman Correlation: 0.593256366497465\n",
            "Recall 2%: 0.021385643631219864\n",
            "Recall 5%: 0.06332932412624359\n",
            "Jaccard Score: 0.5789473684210527\n",
            "🌞🌞🌞\n",
            " Satrted D2R with GP model using random-exploit protocol and seed 750.\n",
            "🌊🌊🌊\n",
            "Epoch 100 | Loss: 1.83\n",
            "Epoch 200 | Loss: 1.83\n",
            "MSE: 1.401458501815796\n",
            "🌞🌞🌞\n",
            " Satrted D2R with GP model using random-exploit protocol and seed 750.\n",
            "🌊🌊🌊\n",
            "Epoch 100 | Loss: 1.86\n",
            "Epoch 200 | Loss: 1.86\n",
            "MSE: 1.6166192293167114\n",
            "R2: 0.32433048976044887\n",
            "Spearman Correlation: 0.5303050861898936\n",
            "Recall 2%: 0.0151714151725173\n",
            "Recall 5%: 0.04988886043429375\n",
            "Jaccard Score: 0.5714285714285714\n",
            "🌞🌞🌞\n",
            " Satrted D2R with GP model using random-exploit protocol and seed 750.\n",
            "🌊🌊🌊\n",
            "Epoch 100 | Loss: 1.82\n",
            "Epoch 200 | Loss: 1.82\n",
            "MSE: 1.3575094938278198\n",
            "🌞🌞🌞\n",
            " Satrted D2R with GP model using random-exploit protocol and seed 750.\n",
            "🌊🌊🌊\n",
            "Epoch 100 | Loss: 1.79\n",
            "Epoch 200 | Loss: 1.79\n",
            "MSE: 2.130782127380371\n",
            "R2: 0.27477327322305267\n",
            "Spearman Correlation: 0.5085136830576603\n",
            "Recall 2%: 0.016963088884949684\n",
            "Recall 5%: 0.05352739617228508\n",
            "Jaccard Score: 0.46938775510204084\n"
          ]
        },
        {
          "metadata": {
            "tags": null
          },
          "name": "stderr",
          "output_type": "stream",
          "text": [
            "\n",
            "\n",
            "Seeds: 100%|██████████| 1/1 [01:22<00:00, 82.03s/it]\u001b[A\u001b[A\n",
            "\n",
            "                                                    \u001b[A\u001b[A\n",
            "Protocols:  33%|███▎      | 1/3 [01:22<02:44, 82.05s/it]\u001b[A"
          ]
        },
        {
          "metadata": {
            "tags": null
          },
          "name": "stdout",
          "output_type": "stream",
          "text": [
            "🌞🌞🌞\n",
            " Finished D2R with GP model using random-exploit protocol and seed 750.\n",
            "🌊🌊🌊\n"
          ]
        },
        {
          "metadata": {
            "tags": null
          },
          "name": "stderr",
          "output_type": "stream",
          "text": [
            "\n",
            "\n",
            "Seeds:   0%|          | 0/1 [00:00<?, ?it/s]\u001b[A\u001b[A"
          ]
        },
        {
          "output_type": "stream",
          "name": "stdout",
          "text": [
            "🌞🌞🌞\n",
            " Satrted D2R with GP model using random-explore-exploit protocol and seed 750.\n",
            "🌊🌊🌊\n",
            "Epoch 100 | Loss: 1.71\n",
            "Epoch 200 | Loss: 1.47\n",
            "MSE: 1.3170442581176758\n",
            "R2: -0.025022634103337493\n",
            "Spearman Correlation: -0.21678321678321683\n",
            "Recall 2%: 0.9999999403953552\n",
            "Recall 5%: 0.9999999403953552\n",
            "Jaccard Score: 0.3333333333333333\n",
            "🌞🌞🌞\n",
            " Satrted D2R with GP model using random-explore-exploit protocol and seed 750.\n",
            "🌊🌊🌊\n",
            "Epoch 100 | Loss: 1.55\n",
            "Epoch 200 | Loss: 1.53\n",
            "MSE: 0.9418764114379883\n",
            "R2: 0.1325930328420284\n",
            "Spearman Correlation: 0.46955624355005166\n",
            "Recall 2%: 0.9999999403953552\n",
            "Recall 5%: 0.9999999403953552\n",
            "Jaccard Score: 0.5\n",
            "🌞🌞🌞\n",
            " Satrted D2R with GP model using random-explore-exploit protocol and seed 750.\n",
            "🌊🌊🌊\n",
            "Epoch 100 | Loss: 1.47\n",
            "Epoch 200 | Loss: 1.45\n",
            "MSE: 0.9252039790153503\n",
            "R2: 0.1150204893325919\n",
            "Spearman Correlation: 0.48869565217391303\n",
            "Recall 2%: 1.0\n",
            "Recall 5%: 0.04317006096243858\n",
            "Jaccard Score: 0.5\n",
            "🌞🌞🌞\n",
            " Satrted D2R with GP model using random-explore-exploit protocol and seed 750.\n",
            "🌊🌊🌊\n",
            "Epoch 100 | Loss: 1.44\n",
            "Epoch 200 | Loss: 1.44\n",
            "MSE: 1.9319968223571777\n"
          ]
        },
        {
          "output_type": "stream",
          "name": "stderr",
          "text": [
            "/usr/local/lib/python3.10/dist-packages/gpytorch/distributions/multivariate_normal.py:319: NumericalWarning: Negative variance values detected. This is likely due to numerical instabilities. Rounding negative variances up to 1e-06.\n",
            "  warnings.warn(\n"
          ]
        },
        {
          "output_type": "stream",
          "name": "stdout",
          "text": [
            "🌞🌞🌞\n",
            " Satrted D2R with GP model using random-explore-exploit protocol and seed 750.\n",
            "🌊🌊🌊\n",
            "Epoch 100 | Loss: 1.77\n",
            "Epoch 200 | Loss: 1.77\n",
            "MSE: 1.8736798763275146\n",
            "R2: 0.3902419647045542\n",
            "Spearman Correlation: 0.6943270300333704\n",
            "Recall 2%: 1.0\n",
            "Recall 5%: 0.04036998003721237\n",
            "Jaccard Score: 0.5789473684210527\n",
            "🌞🌞🌞\n",
            " Satrted D2R with GP model using random-explore-exploit protocol and seed 750.\n",
            "🌊🌊🌊\n",
            "Epoch 100 | Loss: 1.75\n",
            "Epoch 200 | Loss: 1.75\n",
            "MSE: 1.8045446872711182\n"
          ]
        },
        {
          "output_type": "stream",
          "name": "stderr",
          "text": [
            "/usr/local/lib/python3.10/dist-packages/gpytorch/distributions/multivariate_normal.py:319: NumericalWarning: Negative variance values detected. This is likely due to numerical instabilities. Rounding negative variances up to 1e-06.\n",
            "  warnings.warn(\n"
          ]
        },
        {
          "output_type": "stream",
          "name": "stdout",
          "text": [
            "🌞🌞🌞\n",
            " Satrted D2R with GP model using random-explore-exploit protocol and seed 750.\n",
            "🌊🌊🌊\n",
            "Epoch 100 | Loss: 1.71\n",
            "Epoch 200 | Loss: 1.70\n",
            "MSE: 1.8180490732192993\n",
            "R2: 0.31386691226696706\n",
            "Spearman Correlation: 0.5487773487773489\n",
            "Recall 2%: 1.0000001192092896\n",
            "Recall 5%: 0.028456678614020348\n",
            "Jaccard Score: 0.38461538461538464\n",
            "🌞🌞🌞\n",
            " Satrted D2R with GP model using random-explore-exploit protocol and seed 750.\n",
            "🌊🌊🌊\n",
            "Epoch 100 | Loss: 1.70\n",
            "Epoch 200 | Loss: 1.70\n",
            "MSE: 1.7878708839416504\n"
          ]
        },
        {
          "output_type": "stream",
          "name": "stderr",
          "text": [
            "/usr/local/lib/python3.10/dist-packages/gpytorch/distributions/multivariate_normal.py:319: NumericalWarning: Negative variance values detected. This is likely due to numerical instabilities. Rounding negative variances up to 1e-06.\n",
            "  warnings.warn(\n"
          ]
        },
        {
          "output_type": "stream",
          "name": "stdout",
          "text": [
            "🌞🌞🌞\n",
            " Satrted D2R with GP model using random-explore-exploit protocol and seed 750.\n",
            "🌊🌊🌊\n",
            "Epoch 100 | Loss: 1.75\n",
            "Epoch 200 | Loss: 1.75\n",
            "MSE: 1.0648338794708252\n",
            "R2: 0.46334202324394314\n",
            "Spearman Correlation: 0.6463819787699538\n",
            "Recall 2%: 1.0\n",
            "Recall 5%: 0.05586520954966545\n",
            "Jaccard Score: 0.5\n",
            "🌞🌞🌞\n",
            " Satrted D2R with GP model using random-explore-exploit protocol and seed 750.\n",
            "🌊🌊🌊\n",
            "Epoch 100 | Loss: 1.67\n",
            "Epoch 200 | Loss: 1.67\n",
            "MSE: 1.7683156728744507\n"
          ]
        },
        {
          "output_type": "stream",
          "name": "stderr",
          "text": [
            "/usr/local/lib/python3.10/dist-packages/gpytorch/distributions/multivariate_normal.py:319: NumericalWarning: Negative variance values detected. This is likely due to numerical instabilities. Rounding negative variances up to 1e-06.\n",
            "  warnings.warn(\n"
          ]
        },
        {
          "output_type": "stream",
          "name": "stdout",
          "text": [
            "🌞🌞🌞\n",
            " Satrted D2R with GP model using random-explore-exploit protocol and seed 750.\n",
            "🌊🌊🌊\n",
            "Epoch 100 | Loss: 1.96\n",
            "Epoch 200 | Loss: 1.96\n",
            "MSE: 1.75176203250885\n",
            "R2: 0.3399144169787106\n",
            "Spearman Correlation: 0.3796135475466782\n",
            "Recall 2%: 1.0000001192092896\n",
            "Recall 5%: 0.04276416450738907\n",
            "Jaccard Score: 0.4117647058823529\n",
            "🌞🌞🌞\n",
            " Satrted D2R with GP model using random-explore-exploit protocol and seed 750.\n",
            "🌊🌊🌊\n",
            "Epoch 100 | Loss: 1.91\n",
            "Epoch 200 | Loss: 1.91\n",
            "MSE: 1.4154253005981445\n",
            "🌞🌞🌞\n",
            " Satrted D2R with GP model using random-explore-exploit protocol and seed 750.\n",
            "🌊🌊🌊\n",
            "Epoch 100 | Loss: 1.90\n",
            "Epoch 200 | Loss: 1.90\n",
            "MSE: 1.9865018129348755\n",
            "R2: 0.316953405356189\n",
            "Spearman Correlation: 0.5409948542024013\n",
            "Recall 2%: 0.017522351816296577\n",
            "Recall 5%: 0.04040909186005592\n",
            "Jaccard Score: 0.5882352941176471\n",
            "🌞🌞🌞\n",
            " Satrted D2R with GP model using random-explore-exploit protocol and seed 750.\n",
            "🌊🌊🌊\n",
            "Epoch 100 | Loss: 1.87\n",
            "Epoch 200 | Loss: 1.87\n",
            "MSE: 1.3987798690795898\n",
            "🌞🌞🌞\n",
            " Satrted D2R with GP model using random-explore-exploit protocol and seed 750.\n",
            "🌊🌊🌊\n",
            "Epoch 100 | Loss: 1.74\n",
            "Epoch 200 | Loss: 1.74\n",
            "MSE: 4.447042942047119\n",
            "R2: 0.15387927983337413\n",
            "Spearman Correlation: 0.5623662785851231\n",
            "Recall 2%: 0.023808369413018227\n",
            "Recall 5%: 0.06462009996175766\n",
            "Jaccard Score: 0.5384615384615384\n",
            "🌞🌞🌞\n",
            " Satrted D2R with GP model using random-explore-exploit protocol and seed 750.\n",
            "🌊🌊🌊\n",
            "Epoch 100 | Loss: 1.83\n",
            "Epoch 200 | Loss: 1.83\n",
            "MSE: 1.364760160446167\n",
            "🌞🌞🌞\n",
            " Satrted D2R with GP model using random-explore-exploit protocol and seed 750.\n",
            "🌊🌊🌊\n",
            "Epoch 100 | Loss: 1.87\n",
            "Epoch 200 | Loss: 1.87\n",
            "MSE: 1.3464410305023193\n",
            "R2: 0.38046070216041394\n",
            "Spearman Correlation: 0.6619349320100901\n",
            "Recall 2%: 0.021270237863063812\n",
            "Recall 5%: 0.0638304054737091\n",
            "Jaccard Score: 0.5348837209302325\n",
            "🌞🌞🌞\n",
            " Satrted D2R with GP model using random-explore-exploit protocol and seed 750.\n",
            "🌊🌊🌊\n",
            "Epoch 100 | Loss: 1.81\n",
            "Epoch 200 | Loss: 1.81\n",
            "MSE: 1.3450990915298462\n",
            "🌞🌞🌞\n",
            " Satrted D2R with GP model using random-explore-exploit protocol and seed 750.\n",
            "🌊🌊🌊\n",
            "Epoch 100 | Loss: 1.82\n",
            "Epoch 200 | Loss: 1.82\n",
            "MSE: 2.331263303756714\n",
            "R2: 0.3007226051742279\n",
            "Spearman Correlation: 0.4363443418979322\n",
            "Recall 2%: 0.015874121338129044\n",
            "Recall 5%: 0.05108538269996643\n",
            "Jaccard Score: 0.42857142857142855\n"
          ]
        },
        {
          "output_type": "stream",
          "name": "stderr",
          "text": [
            "\n",
            "\n",
            "Seeds: 100%|██████████| 1/1 [01:14<00:00, 74.42s/it]\u001b[A\u001b[A\n",
            "\n",
            "                                                    \u001b[A\u001b[A\n",
            "Protocols:  67%|██████▋   | 2/3 [02:36<01:17, 77.57s/it]\u001b[A"
          ]
        },
        {
          "output_type": "stream",
          "name": "stdout",
          "text": [
            "🌞🌞🌞\n",
            " Finished D2R with GP model using random-explore-exploit protocol and seed 750.\n",
            "🌊🌊🌊\n"
          ]
        },
        {
          "output_type": "stream",
          "name": "stderr",
          "text": [
            "\n",
            "\n",
            "Seeds:   0%|          | 0/1 [00:00<?, ?it/s]\u001b[A\u001b[A"
          ]
        },
        {
          "output_type": "stream",
          "name": "stdout",
          "text": [
            "🌞🌞🌞\n",
            " Satrted D2R with GP model using random-ucb protocol and seed 750.\n",
            "🌊🌊🌊\n",
            "Epoch 100 | Loss: 1.71\n",
            "Epoch 200 | Loss: 1.47\n",
            "MSE: 1.3170442581176758\n",
            "R2: -0.025022634103337493\n",
            "Spearman Correlation: -0.21678321678321683\n",
            "Recall 2%: 0.9999999403953552\n",
            "Recall 5%: 0.9999999403953552\n",
            "Jaccard Score: 0.3333333333333333\n",
            "🌞🌞🌞\n",
            " Satrted D2R with GP model using random-ucb protocol and seed 750.\n",
            "🌊🌊🌊\n",
            "Epoch 100 | Loss: 1.91\n",
            "Epoch 200 | Loss: 1.89\n",
            "MSE: 3.5492913722991943\n",
            "R2: 0.3584118027818006\n",
            "Spearman Correlation: 0.8575851393188855\n",
            "Recall 2%: 1.0\n",
            "Recall 5%: 1.0\n",
            "Jaccard Score: 0.6363636363636364\n",
            "🌞🌞🌞\n",
            " Satrted D2R with GP model using random-ucb protocol and seed 750.\n",
            "🌊🌊🌊\n",
            "Epoch 100 | Loss: 1.81\n",
            "Epoch 200 | Loss: 1.70\n",
            "MSE: 0.6624836921691895\n",
            "R2: 0.88322806712911\n",
            "Spearman Correlation: 0.7292889931045401\n",
            "Recall 2%: 1.0\n",
            "Recall 5%: 0.06767722964286804\n",
            "Jaccard Score: 0.6\n",
            "🌞🌞🌞\n",
            " Satrted D2R with GP model using random-ucb protocol and seed 750.\n",
            "🌊🌊🌊\n",
            "Epoch 100 | Loss: 1.22\n",
            "Epoch 200 | Loss: 1.22\n",
            "MSE: 0.31700843572616577\n",
            "R2: 0.9302590950570064\n",
            "Spearman Correlation: 0.8507512573559116\n",
            "Recall 2%: 1.0000001192092896\n",
            "Recall 5%: 0.0507720485329628\n",
            "Jaccard Score: 0.5789473684210527\n",
            "🌞🌞🌞\n",
            " Satrted D2R with GP model using random-ucb protocol and seed 750.\n",
            "🌊🌊🌊\n",
            "Epoch 100 | Loss: 0.82\n",
            "Epoch 200 | Loss: 0.82\n",
            "MSE: 0.39272311329841614\n",
            "R2: 0.9493242586834129\n",
            "Spearman Correlation: 0.9432944226857429\n",
            "Recall 2%: 1.0\n",
            "Recall 5%: 0.04291344806551933\n",
            "Jaccard Score: 0.8947368421052632\n",
            "🌞🌞🌞\n",
            " Satrted D2R with GP model using random-ucb protocol and seed 750.\n",
            "🌊🌊🌊\n",
            "Epoch 100 | Loss: 0.53\n",
            "Epoch 200 | Loss: 0.53\n",
            "MSE: 0.1461649239063263\n",
            "R2: 0.97630112194245\n",
            "Spearman Correlation: 0.9221274898448396\n",
            "Recall 2%: 1.0\n",
            "Recall 5%: 0.06902266293764114\n",
            "Jaccard Score: 0.7727272727272727\n",
            "🌞🌞🌞\n",
            " Satrted D2R with GP model using random-ucb protocol and seed 750.\n",
            "🌊🌊🌊\n",
            "Epoch 100 | Loss: 0.35\n",
            "Epoch 200 | Loss: 0.35\n",
            "MSE: 0.3100021183490753\n",
            "R2: 0.9509592265732991\n",
            "Spearman Correlation: 0.9324093722196961\n",
            "Recall 2%: 1.0000001192092896\n",
            "Recall 5%: 0.059108130633831024\n",
            "Jaccard Score: 0.7777777777777778\n",
            "🌞🌞🌞\n",
            " Satrted D2R with GP model using random-ucb protocol and seed 750.\n",
            "🌊🌊🌊\n",
            "Epoch 100 | Loss: 0.13\n",
            "Epoch 200 | Loss: 0.13\n",
            "MSE: 0.28515562415122986\n",
            "R2: 0.9464857458095838\n",
            "Spearman Correlation: 0.9268358241288217\n",
            "Recall 2%: 0.03005160763859749\n",
            "Recall 5%: 0.05632657930254936\n",
            "Jaccard Score: 0.8\n",
            "🌞🌞🌞\n",
            " Satrted D2R with GP model using random-ucb protocol and seed 750.\n",
            "🌊🌊🌊\n",
            "Epoch 100 | Loss: -0.06\n",
            "Epoch 200 | Loss: -0.06\n",
            "MSE: 0.2393772006034851\n",
            "R2: 0.953036250032517\n",
            "Spearman Correlation: 0.9508716838842184\n",
            "Recall 2%: 0.023518027737736702\n",
            "Recall 5%: 0.06905297189950943\n",
            "Jaccard Score: 0.8064516129032258\n",
            "🌞🌞🌞\n",
            " Satrted D2R with GP model using random-ucb protocol and seed 750.\n",
            "🌊🌊🌊\n",
            "Epoch 100 | Loss: -0.04\n",
            "Epoch 200 | Loss: -0.04\n",
            "MSE: 0.16870427131652832\n",
            "R2: 0.9764083373150342\n",
            "Spearman Correlation: 0.9730763738978828\n",
            "Recall 2%: 0.02345183491706848\n",
            "Recall 5%: 0.06806277483701706\n",
            "Jaccard Score: 0.9411764705882353\n",
            "🌞🌞🌞\n",
            " Satrted D2R with GP model using random-ucb protocol and seed 750.\n",
            "🌊🌊🌊\n",
            "Epoch 100 | Loss: -0.18\n",
            "Epoch 200 | Loss: -0.18\n",
            "MSE: 0.18734437227249146\n",
            "R2: 0.9628450937518446\n",
            "Spearman Correlation: 0.9478376364358077\n",
            "Recall 2%: 0.02124483324587345\n",
            "Recall 5%: 0.0637345016002655\n",
            "Jaccard Score: 0.8947368421052632\n"
          ]
        },
        {
          "output_type": "stream",
          "name": "stderr",
          "text": [
            "\n",
            "\n",
            "Seeds: 100%|██████████| 1/1 [00:41<00:00, 41.70s/it]\u001b[A\u001b[A\n",
            "\n",
            "                                                    \u001b[A\u001b[A\n",
            "Protocols: 100%|██████████| 3/3 [03:18<00:00, 61.21s/it]\u001b[A\n",
            "Datasets:  75%|███████▌  | 3/4 [11:08<03:32, 212.08s/it]"
          ]
        },
        {
          "output_type": "stream",
          "name": "stdout",
          "text": [
            "🌞🌞🌞\n",
            " Finished D2R with GP model using random-ucb protocol and seed 750.\n",
            "🌊🌊🌊\n"
          ]
        },
        {
          "output_type": "stream",
          "name": "stderr",
          "text": [
            "\n",
            "Protocols:   0%|          | 0/3 [00:00<?, ?it/s]\u001b[A\n",
            "\n",
            "Seeds:   0%|          | 0/1 [00:00<?, ?it/s]\u001b[A\u001b[A"
          ]
        },
        {
          "output_type": "stream",
          "name": "stdout",
          "text": [
            "🌞🌞🌞\n",
            " Satrted USP7 with GP model using random-exploit protocol and seed 750.\n",
            "🌊🌊🌊\n",
            "Epoch 100 | Loss: 2.01\n",
            "Epoch 200 | Loss: 1.39\n",
            "MSE: 1.4692144393920898\n",
            "R2: 0.1477973995440115\n",
            "Spearman Correlation: 0.37391224581226906\n",
            "Recall 2%: 0.9999999403953552\n",
            "Recall 5%: 0.9999999403953552\n",
            "Jaccard Score: 0.5\n",
            "🌞🌞🌞\n",
            " Satrted USP7 with GP model using random-exploit protocol and seed 750.\n",
            "🌊🌊🌊\n",
            "Epoch 100 | Loss: 1.86\n",
            "Epoch 200 | Loss: 1.43\n",
            "MSE: 0.8970605731010437\n"
          ]
        },
        {
          "output_type": "stream",
          "name": "stderr",
          "text": [
            "/usr/local/lib/python3.10/dist-packages/gpytorch/distributions/multivariate_normal.py:319: NumericalWarning: Negative variance values detected. This is likely due to numerical instabilities. Rounding negative variances up to 1e-06.\n",
            "  warnings.warn(\n"
          ]
        },
        {
          "output_type": "stream",
          "name": "stdout",
          "text": [
            "🌞🌞🌞\n",
            " Satrted USP7 with GP model using random-exploit protocol and seed 750.\n",
            "🌊🌊🌊\n",
            "Epoch 100 | Loss: 1.87\n",
            "Epoch 200 | Loss: 1.48\n",
            "MSE: 0.6175572872161865\n",
            "R2: 0.6182889674415774\n",
            "Spearman Correlation: 0.7379466365989168\n",
            "Recall 2%: 1.0\n",
            "Recall 5%: 1.0\n",
            "Jaccard Score: 0.5454545454545454\n",
            "🌞🌞🌞\n",
            " Satrted USP7 with GP model using random-exploit protocol and seed 750.\n",
            "🌊🌊🌊\n",
            "Epoch 100 | Loss: 1.66\n",
            "Epoch 200 | Loss: 1.42\n",
            "MSE: 0.7856419682502747\n"
          ]
        },
        {
          "output_type": "stream",
          "name": "stderr",
          "text": [
            "/usr/local/lib/python3.10/dist-packages/gpytorch/distributions/multivariate_normal.py:319: NumericalWarning: Negative variance values detected. This is likely due to numerical instabilities. Rounding negative variances up to 1e-06.\n",
            "  warnings.warn(\n"
          ]
        },
        {
          "output_type": "stream",
          "name": "stdout",
          "text": [
            "🌞🌞🌞\n",
            " Satrted USP7 with GP model using random-exploit protocol and seed 750.\n",
            "🌊🌊🌊\n",
            "Epoch 100 | Loss: 1.65\n",
            "Epoch 200 | Loss: 1.41\n",
            "MSE: 0.8361594676971436\n",
            "R2: 0.5422820359296452\n",
            "Spearman Correlation: 0.6617223879261318\n",
            "Recall 2%: 0.9999999403953552\n",
            "Recall 5%: 0.05283355712890625\n",
            "Jaccard Score: 0.5714285714285714\n",
            "🌞🌞🌞\n",
            " Satrted USP7 with GP model using random-exploit protocol and seed 750.\n",
            "🌊🌊🌊\n",
            "Epoch 100 | Loss: 1.47\n",
            "Epoch 200 | Loss: 1.39\n",
            "MSE: 0.7653568387031555\n"
          ]
        },
        {
          "output_type": "stream",
          "name": "stderr",
          "text": [
            "/usr/local/lib/python3.10/dist-packages/gpytorch/distributions/multivariate_normal.py:319: NumericalWarning: Negative variance values detected. This is likely due to numerical instabilities. Rounding negative variances up to 1e-06.\n",
            "  warnings.warn(\n"
          ]
        },
        {
          "output_type": "stream",
          "name": "stdout",
          "text": [
            "🌞🌞🌞\n",
            " Satrted USP7 with GP model using random-exploit protocol and seed 750.\n",
            "🌊🌊🌊\n",
            "Epoch 100 | Loss: 1.59\n",
            "Epoch 200 | Loss: 1.50\n",
            "MSE: 0.51412034034729\n",
            "R2: 0.6746822903432742\n",
            "Spearman Correlation: 0.706830282470777\n",
            "Recall 2%: 1.0\n",
            "Recall 5%: 0.04244406148791313\n",
            "Jaccard Score: 0.7058823529411765\n",
            "🌞🌞🌞\n",
            " Satrted USP7 with GP model using random-exploit protocol and seed 750.\n",
            "🌊🌊🌊\n",
            "Epoch 100 | Loss: 1.47\n",
            "Epoch 200 | Loss: 1.43\n",
            "MSE: 0.7456425428390503\n"
          ]
        },
        {
          "output_type": "stream",
          "name": "stderr",
          "text": [
            "/usr/local/lib/python3.10/dist-packages/gpytorch/distributions/multivariate_normal.py:319: NumericalWarning: Negative variance values detected. This is likely due to numerical instabilities. Rounding negative variances up to 1e-06.\n",
            "  warnings.warn(\n"
          ]
        },
        {
          "output_type": "stream",
          "name": "stdout",
          "text": [
            "🌞🌞🌞\n",
            " Satrted USP7 with GP model using random-exploit protocol and seed 750.\n",
            "🌊🌊🌊\n",
            "Epoch 100 | Loss: 1.46\n",
            "Epoch 200 | Loss: 1.41\n",
            "MSE: 0.5745025873184204\n",
            "R2: 0.6279687685273998\n",
            "Spearman Correlation: 0.7012445758422343\n",
            "Recall 2%: 1.0\n",
            "Recall 5%: 0.03468174487352371\n",
            "Jaccard Score: 0.6363636363636364\n",
            "🌞🌞🌞\n",
            " Satrted USP7 with GP model using random-exploit protocol and seed 750.\n",
            "🌊🌊🌊\n",
            "Epoch 100 | Loss: 1.39\n",
            "Epoch 200 | Loss: 1.36\n",
            "MSE: 0.738442063331604\n"
          ]
        },
        {
          "output_type": "stream",
          "name": "stderr",
          "text": [
            "/usr/local/lib/python3.10/dist-packages/gpytorch/distributions/multivariate_normal.py:319: NumericalWarning: Negative variance values detected. This is likely due to numerical instabilities. Rounding negative variances up to 1e-06.\n",
            "  warnings.warn(\n"
          ]
        },
        {
          "output_type": "stream",
          "name": "stdout",
          "text": [
            "🌞🌞🌞\n",
            " Satrted USP7 with GP model using random-exploit protocol and seed 750.\n",
            "🌊🌊🌊\n",
            "Epoch 100 | Loss: 1.37\n",
            "Epoch 200 | Loss: 1.33\n",
            "MSE: 0.3757639527320862\n",
            "R2: 0.8235595756212556\n",
            "Spearman Correlation: 0.8849291739268986\n",
            "Recall 2%: 1.0000001192092896\n",
            "Recall 5%: 0.06035025417804718\n",
            "Jaccard Score: 0.75\n",
            "🌞🌞🌞\n",
            " Satrted USP7 with GP model using random-exploit protocol and seed 750.\n",
            "🌊🌊🌊\n",
            "Epoch 100 | Loss: 1.27\n",
            "Epoch 200 | Loss: 1.24\n",
            "MSE: 0.7297676801681519\n"
          ]
        },
        {
          "output_type": "stream",
          "name": "stderr",
          "text": [
            "/usr/local/lib/python3.10/dist-packages/gpytorch/distributions/multivariate_normal.py:319: NumericalWarning: Negative variance values detected. This is likely due to numerical instabilities. Rounding negative variances up to 1e-06.\n",
            "  warnings.warn(\n"
          ]
        },
        {
          "output_type": "stream",
          "name": "stdout",
          "text": [
            "🌞🌞🌞\n",
            " Satrted USP7 with GP model using random-exploit protocol and seed 750.\n",
            "🌊🌊🌊\n",
            "Epoch 100 | Loss: 1.21\n",
            "Epoch 200 | Loss: 1.18\n",
            "MSE: 0.4600910246372223\n",
            "R2: 0.7661178506097419\n",
            "Spearman Correlation: 0.8345569962845225\n",
            "Recall 2%: 1.0000001192092896\n",
            "Recall 5%: 0.05025646090507507\n",
            "Jaccard Score: 0.7142857142857143\n",
            "🌞🌞🌞\n",
            " Satrted USP7 with GP model using random-exploit protocol and seed 750.\n",
            "🌊🌊🌊\n",
            "Epoch 100 | Loss: 1.16\n",
            "Epoch 200 | Loss: 1.13\n",
            "MSE: 0.7262036204338074\n"
          ]
        },
        {
          "output_type": "stream",
          "name": "stderr",
          "text": [
            "/usr/local/lib/python3.10/dist-packages/gpytorch/distributions/multivariate_normal.py:319: NumericalWarning: Negative variance values detected. This is likely due to numerical instabilities. Rounding negative variances up to 1e-06.\n",
            "  warnings.warn(\n"
          ]
        },
        {
          "output_type": "stream",
          "name": "stdout",
          "text": [
            "🌞🌞🌞\n",
            " Satrted USP7 with GP model using random-exploit protocol and seed 750.\n",
            "🌊🌊🌊\n",
            "Epoch 100 | Loss: 1.14\n",
            "Epoch 200 | Loss: 1.11\n",
            "MSE: 0.33780425786972046\n",
            "R2: 0.8448410252758422\n",
            "Spearman Correlation: 0.8988788363718578\n",
            "Recall 2%: 0.02419152297079563\n",
            "Recall 5%: 0.046012092381715775\n",
            "Jaccard Score: 0.7857142857142857\n",
            "🌞🌞🌞\n",
            " Satrted USP7 with GP model using random-exploit protocol and seed 750.\n",
            "🌊🌊🌊\n",
            "Epoch 100 | Loss: 1.07\n",
            "Epoch 200 | Loss: 1.04\n",
            "MSE: 0.7266579270362854\n"
          ]
        },
        {
          "output_type": "stream",
          "name": "stderr",
          "text": [
            "/usr/local/lib/python3.10/dist-packages/gpytorch/distributions/multivariate_normal.py:319: NumericalWarning: Negative variance values detected. This is likely due to numerical instabilities. Rounding negative variances up to 1e-06.\n",
            "  warnings.warn(\n"
          ]
        },
        {
          "output_type": "stream",
          "name": "stdout",
          "text": [
            "🌞🌞🌞\n",
            " Satrted USP7 with GP model using random-exploit protocol and seed 750.\n",
            "🌊🌊🌊\n",
            "Epoch 100 | Loss: 1.12\n",
            "Epoch 200 | Loss: 1.09\n",
            "MSE: 0.4048728048801422\n",
            "R2: 0.8037371916997587\n",
            "Spearman Correlation: 0.870173978939528\n",
            "Recall 2%: 0.0207374170422554\n",
            "Recall 5%: 0.06123236566781998\n",
            "Jaccard Score: 0.8181818181818182\n",
            "🌞🌞🌞\n",
            " Satrted USP7 with GP model using random-exploit protocol and seed 750.\n",
            "🌊🌊🌊\n",
            "Epoch 100 | Loss: 1.05\n",
            "Epoch 200 | Loss: 1.02\n",
            "MSE: 0.7081073522567749\n"
          ]
        },
        {
          "output_type": "stream",
          "name": "stderr",
          "text": [
            "/usr/local/lib/python3.10/dist-packages/gpytorch/distributions/multivariate_normal.py:319: NumericalWarning: Negative variance values detected. This is likely due to numerical instabilities. Rounding negative variances up to 1e-06.\n",
            "  warnings.warn(\n"
          ]
        },
        {
          "output_type": "stream",
          "name": "stdout",
          "text": [
            "🌞🌞🌞\n",
            " Satrted USP7 with GP model using random-exploit protocol and seed 750.\n",
            "🌊🌊🌊\n",
            "Epoch 100 | Loss: 1.10\n",
            "Epoch 200 | Loss: 1.08\n",
            "MSE: 0.48085492849349976\n",
            "R2: 0.791922406117874\n",
            "Spearman Correlation: 0.813607834726163\n",
            "Recall 2%: 0.020108822733163834\n",
            "Recall 5%: 0.05663067474961281\n",
            "Jaccard Score: 0.7837837837837838\n",
            "🌞🌞🌞\n",
            " Satrted USP7 with GP model using random-exploit protocol and seed 750.\n",
            "🌊🌊🌊\n",
            "Epoch 100 | Loss: 1.06\n",
            "Epoch 200 | Loss: 1.04\n",
            "MSE: 0.6285318732261658\n"
          ]
        },
        {
          "output_type": "stream",
          "name": "stderr",
          "text": [
            "/usr/local/lib/python3.10/dist-packages/gpytorch/distributions/multivariate_normal.py:319: NumericalWarning: Negative variance values detected. This is likely due to numerical instabilities. Rounding negative variances up to 1e-06.\n",
            "  warnings.warn(\n"
          ]
        },
        {
          "output_type": "stream",
          "name": "stdout",
          "text": [
            "🌞🌞🌞\n",
            " Satrted USP7 with GP model using random-exploit protocol and seed 750.\n",
            "🌊🌊🌊\n",
            "Epoch 100 | Loss: 1.07\n",
            "Epoch 200 | Loss: 1.05\n",
            "MSE: 0.4540606737136841\n",
            "R2: 0.7819011681782285\n",
            "Spearman Correlation: 0.8755843673269911\n",
            "Recall 2%: 0.016653481870889664\n",
            "Recall 5%: 0.04945432022213936\n",
            "Jaccard Score: 0.8947368421052632\n"
          ]
        },
        {
          "output_type": "stream",
          "name": "stderr",
          "text": [
            "\n",
            "\n",
            "Seeds: 100%|██████████| 1/1 [01:26<00:00, 86.44s/it]\u001b[A\u001b[A\n",
            "\n",
            "                                                    \u001b[A\u001b[A\n",
            "Protocols:  33%|███▎      | 1/3 [01:26<02:52, 86.47s/it]\u001b[A"
          ]
        },
        {
          "output_type": "stream",
          "name": "stdout",
          "text": [
            "🌞🌞🌞\n",
            " Finished USP7 with GP model using random-exploit protocol and seed 750.\n",
            "🌊🌊🌊\n"
          ]
        },
        {
          "output_type": "stream",
          "name": "stderr",
          "text": [
            "\n",
            "\n",
            "Seeds:   0%|          | 0/1 [00:00<?, ?it/s]\u001b[A\u001b[A"
          ]
        },
        {
          "output_type": "stream",
          "name": "stdout",
          "text": [
            "🌞🌞🌞\n",
            " Satrted USP7 with GP model using random-explore-exploit protocol and seed 750.\n",
            "🌊🌊🌊\n",
            "Epoch 100 | Loss: 2.01\n",
            "Epoch 200 | Loss: 1.39\n",
            "MSE: 1.4692144393920898\n",
            "R2: 0.1477973995440115\n",
            "Spearman Correlation: 0.37391224581226906\n",
            "Recall 2%: 0.9999999403953552\n",
            "Recall 5%: 0.9999999403953552\n",
            "Jaccard Score: 0.5\n",
            "🌞🌞🌞\n",
            " Satrted USP7 with GP model using random-explore-exploit protocol and seed 750.\n",
            "🌊🌊🌊\n",
            "Epoch 100 | Loss: 1.65\n",
            "Epoch 200 | Loss: 1.41\n",
            "MSE: 0.8846437931060791\n",
            "R2: 0.47077539863692075\n",
            "Spearman Correlation: 0.7758946398037326\n",
            "Recall 2%: 1.0000001192092896\n",
            "Recall 5%: 1.0000001192092896\n",
            "Jaccard Score: 0.8\n",
            "🌞🌞🌞\n",
            " Satrted USP7 with GP model using random-explore-exploit protocol and seed 750.\n",
            "🌊🌊🌊\n",
            "Epoch 100 | Loss: 1.50\n",
            "Epoch 200 | Loss: 1.43\n",
            "MSE: 0.6387391686439514\n",
            "R2: 0.5205682623434169\n",
            "Spearman Correlation: 0.6852182143134402\n",
            "Recall 2%: 1.0000001192092896\n",
            "Recall 5%: 0.04946243390440941\n",
            "Jaccard Score: 0.7142857142857143\n",
            "🌞🌞🌞\n",
            " Satrted USP7 with GP model using random-explore-exploit protocol and seed 750.\n",
            "🌊🌊🌊\n",
            "Epoch 100 | Loss: 1.42\n",
            "Epoch 200 | Loss: 1.36\n",
            "MSE: 0.7914848923683167\n"
          ]
        },
        {
          "output_type": "stream",
          "name": "stderr",
          "text": [
            "/usr/local/lib/python3.10/dist-packages/gpytorch/distributions/multivariate_normal.py:319: NumericalWarning: Negative variance values detected. This is likely due to numerical instabilities. Rounding negative variances up to 1e-06.\n",
            "  warnings.warn(\n"
          ]
        },
        {
          "output_type": "stream",
          "name": "stdout",
          "text": [
            "🌞🌞🌞\n",
            " Satrted USP7 with GP model using random-explore-exploit protocol and seed 750.\n",
            "🌊🌊🌊\n",
            "Epoch 100 | Loss: 1.47\n",
            "Epoch 200 | Loss: 1.42\n",
            "MSE: 0.6075236797332764\n",
            "R2: 0.7074320360667223\n",
            "Spearman Correlation: 0.8521130210122257\n",
            "Recall 2%: 0.9999998807907104\n",
            "Recall 5%: 0.04147668555378914\n",
            "Jaccard Score: 0.8125\n",
            "🌞🌞🌞\n",
            " Satrted USP7 with GP model using random-explore-exploit protocol and seed 750.\n",
            "🌊🌊🌊\n",
            "Epoch 100 | Loss: 1.39\n",
            "Epoch 200 | Loss: 1.36\n",
            "MSE: 0.7749706506729126\n"
          ]
        },
        {
          "output_type": "stream",
          "name": "stderr",
          "text": [
            "/usr/local/lib/python3.10/dist-packages/gpytorch/distributions/multivariate_normal.py:319: NumericalWarning: Negative variance values detected. This is likely due to numerical instabilities. Rounding negative variances up to 1e-06.\n",
            "  warnings.warn(\n"
          ]
        },
        {
          "output_type": "stream",
          "name": "stdout",
          "text": [
            "🌞🌞🌞\n",
            " Satrted USP7 with GP model using random-explore-exploit protocol and seed 750.\n",
            "🌊🌊🌊\n",
            "Epoch 100 | Loss: 1.47\n",
            "Epoch 200 | Loss: 1.42\n",
            "MSE: 0.5005927681922913\n",
            "R2: 0.748499109588347\n",
            "Spearman Correlation: 0.9145732458136517\n",
            "Recall 2%: 1.0\n",
            "Recall 5%: 0.034876685589551926\n",
            "Jaccard Score: 0.7142857142857143\n",
            "🌞🌞🌞\n",
            " Satrted USP7 with GP model using random-explore-exploit protocol and seed 750.\n",
            "🌊🌊🌊\n",
            "Epoch 100 | Loss: 1.38\n",
            "Epoch 200 | Loss: 1.35\n",
            "MSE: 0.7658783197402954\n"
          ]
        },
        {
          "output_type": "stream",
          "name": "stderr",
          "text": [
            "/usr/local/lib/python3.10/dist-packages/gpytorch/distributions/multivariate_normal.py:319: NumericalWarning: Negative variance values detected. This is likely due to numerical instabilities. Rounding negative variances up to 1e-06.\n",
            "  warnings.warn(\n"
          ]
        },
        {
          "output_type": "stream",
          "name": "stdout",
          "text": [
            "🌞🌞🌞\n",
            " Satrted USP7 with GP model using random-explore-exploit protocol and seed 750.\n",
            "🌊🌊🌊\n",
            "Epoch 100 | Loss: 1.42\n",
            "Epoch 200 | Loss: 1.39\n",
            "MSE: 0.47909635305404663\n",
            "R2: 0.7129618370683012\n",
            "Spearman Correlation: 0.827778125215221\n",
            "Recall 2%: 1.0\n",
            "Recall 5%: 0.062342774122953415\n",
            "Jaccard Score: 0.75\n",
            "🌞🌞🌞\n",
            " Satrted USP7 with GP model using random-explore-exploit protocol and seed 750.\n",
            "🌊🌊🌊\n",
            "Epoch 100 | Loss: 1.34\n",
            "Epoch 200 | Loss: 1.32\n",
            "MSE: 0.7599716782569885\n"
          ]
        },
        {
          "output_type": "stream",
          "name": "stderr",
          "text": [
            "/usr/local/lib/python3.10/dist-packages/gpytorch/distributions/multivariate_normal.py:319: NumericalWarning: Negative variance values detected. This is likely due to numerical instabilities. Rounding negative variances up to 1e-06.\n",
            "  warnings.warn(\n"
          ]
        },
        {
          "output_type": "stream",
          "name": "stdout",
          "text": [
            "🌞🌞🌞\n",
            " Satrted USP7 with GP model using random-explore-exploit protocol and seed 750.\n",
            "🌊🌊🌊\n",
            "Epoch 100 | Loss: 1.29\n",
            "Epoch 200 | Loss: 1.23\n",
            "MSE: 0.48334217071533203\n",
            "R2: 0.7503683140836604\n",
            "Spearman Correlation: 0.868910768368587\n",
            "Recall 2%: 0.9999999403953552\n",
            "Recall 5%: 0.05114296078681946\n",
            "Jaccard Score: 0.6538461538461539\n",
            "🌞🌞🌞\n",
            " Satrted USP7 with GP model using random-explore-exploit protocol and seed 750.\n",
            "🌊🌊🌊\n",
            "Epoch 100 | Loss: 1.24\n",
            "Epoch 200 | Loss: 1.19\n",
            "MSE: 0.7485604882240295\n"
          ]
        },
        {
          "output_type": "stream",
          "name": "stderr",
          "text": [
            "/usr/local/lib/python3.10/dist-packages/gpytorch/distributions/multivariate_normal.py:319: NumericalWarning: Negative variance values detected. This is likely due to numerical instabilities. Rounding negative variances up to 1e-06.\n",
            "  warnings.warn(\n"
          ]
        },
        {
          "output_type": "stream",
          "name": "stdout",
          "text": [
            "🌞🌞🌞\n",
            " Satrted USP7 with GP model using random-explore-exploit protocol and seed 750.\n",
            "🌊🌊🌊\n",
            "Epoch 100 | Loss: 1.20\n",
            "Epoch 200 | Loss: 1.17\n",
            "MSE: 0.4243576228618622\n",
            "R2: 0.8031733624089628\n",
            "Spearman Correlation: 0.8713331923088747\n",
            "Recall 2%: 0.022473156452178955\n",
            "Recall 5%: 0.04611587896943092\n",
            "Jaccard Score: 0.9285714285714286\n",
            "🌞🌞🌞\n",
            " Satrted USP7 with GP model using random-explore-exploit protocol and seed 750.\n",
            "🌊🌊🌊\n",
            "Epoch 100 | Loss: 1.13\n",
            "Epoch 200 | Loss: 1.10\n",
            "MSE: 0.7520876526832581\n"
          ]
        },
        {
          "output_type": "stream",
          "name": "stderr",
          "text": [
            "/usr/local/lib/python3.10/dist-packages/gpytorch/distributions/multivariate_normal.py:319: NumericalWarning: Negative variance values detected. This is likely due to numerical instabilities. Rounding negative variances up to 1e-06.\n",
            "  warnings.warn(\n"
          ]
        },
        {
          "output_type": "stream",
          "name": "stdout",
          "text": [
            "🌞🌞🌞\n",
            " Satrted USP7 with GP model using random-explore-exploit protocol and seed 750.\n",
            "🌊🌊🌊\n",
            "Epoch 100 | Loss: 1.10\n",
            "Epoch 200 | Loss: 1.08\n",
            "MSE: 0.5635190606117249\n",
            "R2: 0.7389874609154884\n",
            "Spearman Correlation: 0.8627106541485904\n",
            "Recall 2%: 0.020103907212615013\n",
            "Recall 5%: 0.059505611658096313\n",
            "Jaccard Score: 0.8181818181818182\n",
            "🌞🌞🌞\n",
            " Satrted USP7 with GP model using random-explore-exploit protocol and seed 750.\n",
            "🌊🌊🌊\n",
            "Epoch 100 | Loss: 1.06\n",
            "Epoch 200 | Loss: 1.03\n",
            "MSE: 0.7580431699752808\n"
          ]
        },
        {
          "output_type": "stream",
          "name": "stderr",
          "text": [
            "/usr/local/lib/python3.10/dist-packages/gpytorch/distributions/multivariate_normal.py:319: NumericalWarning: Negative variance values detected. This is likely due to numerical instabilities. Rounding negative variances up to 1e-06.\n",
            "  warnings.warn(\n"
          ]
        },
        {
          "output_type": "stream",
          "name": "stdout",
          "text": [
            "🌞🌞🌞\n",
            " Satrted USP7 with GP model using random-explore-exploit protocol and seed 750.\n",
            "🌊🌊🌊\n",
            "Epoch 100 | Loss: 1.13\n",
            "Epoch 200 | Loss: 1.10\n",
            "MSE: 0.5319746732711792\n",
            "R2: 0.7393806753785894\n",
            "Spearman Correlation: 0.8403124999054027\n",
            "Recall 2%: 0.0178435780107975\n",
            "Recall 5%: 0.054636865854263306\n",
            "Jaccard Score: 0.8285714285714286\n",
            "🌞🌞🌞\n",
            " Satrted USP7 with GP model using random-explore-exploit protocol and seed 750.\n",
            "🌊🌊🌊\n",
            "Epoch 100 | Loss: 1.08\n",
            "Epoch 200 | Loss: 1.05\n",
            "MSE: 0.7557592391967773\n"
          ]
        },
        {
          "output_type": "stream",
          "name": "stderr",
          "text": [
            "/usr/local/lib/python3.10/dist-packages/gpytorch/distributions/multivariate_normal.py:319: NumericalWarning: Negative variance values detected. This is likely due to numerical instabilities. Rounding negative variances up to 1e-06.\n",
            "  warnings.warn(\n"
          ]
        },
        {
          "output_type": "stream",
          "name": "stdout",
          "text": [
            "🌞🌞🌞\n",
            " Satrted USP7 with GP model using random-explore-exploit protocol and seed 750.\n",
            "🌊🌊🌊\n",
            "Epoch 100 | Loss: 1.17\n",
            "Epoch 200 | Loss: 1.15\n",
            "MSE: 0.5069200992584229\n",
            "R2: 0.7610547486199671\n",
            "Spearman Correlation: 0.8718261326194864\n",
            "Recall 2%: 0.016953758895397186\n",
            "Recall 5%: 0.05092991888523102\n",
            "Jaccard Score: 0.8461538461538461\n"
          ]
        },
        {
          "output_type": "stream",
          "name": "stderr",
          "text": [
            "\n",
            "\n",
            "Seeds: 100%|██████████| 1/1 [01:26<00:00, 86.80s/it]\u001b[A\u001b[A\n",
            "\n",
            "                                                    \u001b[A\u001b[A\n",
            "Protocols:  67%|██████▋   | 2/3 [02:53<01:26, 86.68s/it]\u001b[A"
          ]
        },
        {
          "output_type": "stream",
          "name": "stdout",
          "text": [
            "🌞🌞🌞\n",
            " Finished USP7 with GP model using random-explore-exploit protocol and seed 750.\n",
            "🌊🌊🌊\n"
          ]
        },
        {
          "output_type": "stream",
          "name": "stderr",
          "text": [
            "\n",
            "\n",
            "Seeds:   0%|          | 0/1 [00:00<?, ?it/s]\u001b[A\u001b[A"
          ]
        },
        {
          "output_type": "stream",
          "name": "stdout",
          "text": [
            "🌞🌞🌞\n",
            " Satrted USP7 with GP model using random-ucb protocol and seed 750.\n",
            "🌊🌊🌊\n",
            "Epoch 100 | Loss: 2.01\n",
            "Epoch 200 | Loss: 1.39\n",
            "MSE: 1.4692144393920898\n",
            "R2: 0.1477973995440115\n",
            "Spearman Correlation: 0.37391224581226906\n",
            "Recall 2%: 0.9999999403953552\n",
            "Recall 5%: 0.9999999403953552\n",
            "Jaccard Score: 0.5\n",
            "🌞🌞🌞\n",
            " Satrted USP7 with GP model using random-ucb protocol and seed 750.\n",
            "🌊🌊🌊\n",
            "Epoch 100 | Loss: 1.74\n",
            "Epoch 200 | Loss: 1.39\n",
            "MSE: 0.5954294204711914\n",
            "R2: 0.5945027946663495\n",
            "Spearman Correlation: 0.7632546901155375\n",
            "Recall 2%: 1.0000001192092896\n",
            "Recall 5%: 1.0000001192092896\n",
            "Jaccard Score: 0.6363636363636364\n",
            "🌞🌞🌞\n",
            " Satrted USP7 with GP model using random-ucb protocol and seed 750.\n",
            "🌊🌊🌊\n",
            "Epoch 100 | Loss: 1.10\n",
            "Epoch 200 | Loss: 0.44\n",
            "MSE: 0.4717293679714203\n",
            "R2: 0.665460531353455\n",
            "Spearman Correlation: 0.8137983655382647\n",
            "Recall 2%: 0.9999999403953552\n",
            "Recall 5%: 0.05060647800564766\n",
            "Jaccard Score: 0.8461538461538461\n",
            "🌞🌞🌞\n",
            " Satrted USP7 with GP model using random-ucb protocol and seed 750.\n",
            "🌊🌊🌊\n",
            "Epoch 100 | Loss: 0.05\n",
            "Epoch 200 | Loss: -0.23\n",
            "MSE: 0.15590108931064606\n",
            "R2: 0.9026111894208004\n",
            "Spearman Correlation: 0.9224842605284641\n",
            "Recall 2%: 0.9999999403953552\n",
            "Recall 5%: 0.04243846237659454\n",
            "Jaccard Score: 0.75\n",
            "🌞🌞🌞\n",
            " Satrted USP7 with GP model using random-ucb protocol and seed 750.\n",
            "🌊🌊🌊\n",
            "Epoch 100 | Loss: -0.73\n",
            "Epoch 200 | Loss: -0.84\n",
            "MSE: 0.21249720454216003\n",
            "R2: 0.8970143191451024\n",
            "Spearman Correlation: 0.9305106745914737\n",
            "Recall 2%: 1.0\n",
            "Recall 5%: 0.03389962017536163\n",
            "Jaccard Score: 0.7894736842105263\n",
            "🌞🌞🌞\n",
            " Satrted USP7 with GP model using random-ucb protocol and seed 750.\n",
            "🌊🌊🌊\n",
            "Epoch 100 | Loss: -0.95\n",
            "Epoch 200 | Loss: -1.06\n",
            "MSE: 0.2568427622318268\n",
            "R2: 0.828096543603461\n",
            "Spearman Correlation: 0.8930779511013863\n",
            "Recall 2%: 1.0\n",
            "Recall 5%: 0.06219862028956413\n",
            "Jaccard Score: 0.7272727272727273\n",
            "🌞🌞🌞\n",
            " Satrted USP7 with GP model using random-ucb protocol and seed 750.\n",
            "🌊🌊🌊\n",
            "Epoch 100 | Loss: -1.29\n",
            "Epoch 200 | Loss: -1.42\n",
            "MSE: 0.11144950240850449\n",
            "R2: 0.9320952527466275\n",
            "Spearman Correlation: 0.9519430949712268\n",
            "Recall 2%: 1.0\n",
            "Recall 5%: 0.05166472867131233\n",
            "Jaccard Score: 0.92\n",
            "🌞🌞🌞\n",
            " Satrted USP7 with GP model using random-ucb protocol and seed 750.\n",
            "🌊🌊🌊\n",
            "Epoch 100 | Loss: -1.55\n",
            "Epoch 200 | Loss: -1.68\n",
            "MSE: 0.27370262145996094\n",
            "R2: 0.7762800347331769\n",
            "Spearman Correlation: 0.9260647869722753\n",
            "Recall 2%: 0.023388758301734924\n",
            "Recall 5%: 0.046250563114881516\n",
            "Jaccard Score: 0.9285714285714286\n",
            "🌞🌞🌞\n",
            " Satrted USP7 with GP model using random-ucb protocol and seed 750.\n",
            "🌊🌊🌊\n",
            "Epoch 100 | Loss: -1.69\n",
            "Epoch 200 | Loss: -1.84\n",
            "MSE: 0.1930740922689438\n",
            "R2: 0.8208480624817158\n",
            "Spearman Correlation: 0.8950990412319001\n",
            "Recall 2%: 0.021708646789193153\n",
            "Recall 5%: 0.06457577645778656\n",
            "Jaccard Score: 0.8\n",
            "🌞🌞🌞\n",
            " Satrted USP7 with GP model using random-ucb protocol and seed 750.\n",
            "🌊🌊🌊\n",
            "Epoch 100 | Loss: -1.83\n",
            "Epoch 200 | Loss: -1.97\n",
            "MSE: 0.09355884790420532\n",
            "R2: 0.9165177874374048\n",
            "Spearman Correlation: 0.919718416695437\n",
            "Recall 2%: 0.020105434581637383\n",
            "Recall 5%: 0.05997876450419426\n",
            "Jaccard Score: 0.9117647058823529\n",
            "🌞🌞🌞\n",
            " Satrted USP7 with GP model using random-ucb protocol and seed 750.\n",
            "🌊🌊🌊\n",
            "Epoch 100 | Loss: -2.02\n",
            "Epoch 200 | Loss: -2.18\n",
            "MSE: 0.22892051935195923\n",
            "R2: 0.8039205215907989\n",
            "Spearman Correlation: 0.8792684834928475\n",
            "Recall 2%: 0.01818602904677391\n",
            "Recall 5%: 0.05425276979804039\n",
            "Jaccard Score: 0.7297297297297297\n"
          ]
        },
        {
          "output_type": "stream",
          "name": "stderr",
          "text": [
            "\n",
            "\n",
            "Seeds: 100%|██████████| 1/1 [00:49<00:00, 49.38s/it]\u001b[A\u001b[A\n",
            "\n",
            "                                                    \u001b[A\u001b[A\n",
            "Protocols: 100%|██████████| 3/3 [03:42<00:00, 69.67s/it]\u001b[A\n",
            "Datasets: 100%|██████████| 4/4 [14:51<00:00, 222.83s/it]"
          ]
        },
        {
          "output_type": "stream",
          "name": "stdout",
          "text": [
            "🌞🌞🌞\n",
            " Finished USP7 with GP model using random-ucb protocol and seed 750.\n",
            "🌊🌊🌊\n"
          ]
        },
        {
          "output_type": "stream",
          "name": "stderr",
          "text": [
            "\n"
          ]
        }
      ],
      "source": [
        "from tqdm import tqdm\n",
        "import torch\n",
        "import pandas as pd\n",
        "\n",
        "results_df = pd.DataFrame()\n",
        "\n",
        "for dataset_name in tqdm(file_paths.keys(), desc=\"Datasets\"):\n",
        "    x = torch.tensor(fingerprints[dataset_name], dtype=torch.float32)\n",
        "    y = affinities[dataset_name]\n",
        "    for protocol_name, protocol in tqdm(selection_protocols.items(), desc=\"Protocols\", leave=False):\n",
        "        for seed in tqdm(random_seeds, desc=\"Seeds\", leave=False):\n",
        "            selected_indices, r2, spearman_corr, recall_2_percent, recall_5_percent, jaccard = active_learning(x, y, protocol, \"GP\", seed, dataset_name, protocol_name)\n",
        "            new_row = pd.DataFrame({\n",
        "                \"Dataset\": [dataset_name],\n",
        "                \"Model\": [\"GP\"],\n",
        "                \"Protocol\": [protocol_name],\n",
        "                \"Seed\": [seed],\n",
        "                \"R2\": [r2],\n",
        "                \"Spearman\": [spearman_corr],\n",
        "                \"Recall_2%\": [recall_2_percent],\n",
        "                \"Recall_5%\": [recall_5_percent],\n",
        "                \"Jaccard\": [jaccard]\n",
        "            })\n",
        "            results_df = pd.concat([results_df, new_row], ignore_index=True)\n",
        "            print(\"🌞🌞🌞\")\n",
        "            print(f\" Finished {dataset_name} with GP model using {protocol_name} protocol and seed {seed}.\")\n",
        "            print(\"🌊🌊🌊\")\n",
        "\n",
        "\n",
        "# Save results to CSV\n",
        "results_df.to_csv(\"active_learning_results.csv\", index=False)\n",
        "\n"
      ]
    },
    {
      "cell_type": "code",
      "source": [
        "#df_with_fingerprint\n",
        "file_path = \"/content/active_learning_results.csv\"\n",
        "df = pd.read_csv(file_path)\n"
      ],
      "metadata": {
        "id": "vh_jpxCdLX-x"
      },
      "execution_count": null,
      "outputs": []
    },
    {
      "cell_type": "code",
      "source": [
        "df"
      ],
      "metadata": {
        "colab": {
          "base_uri": "https://localhost:8080/",
          "height": 425
        },
        "id": "R-_cL940Ldj8",
        "outputId": "b8129bec-1287-4ce6-bbd7-7bc0c1a96a1c"
      },
      "execution_count": null,
      "outputs": [
        {
          "output_type": "execute_result",
          "data": {
            "text/plain": [
              "   Dataset Model                Protocol  Seed        R2  Spearman  Recall_2%  \\\n",
              "0     TYK2    GP          random-exploit   750  0.634011  0.764744   0.016007   \n",
              "1     TYK2    GP  random-explore-exploit   750  0.497197  0.732008   0.017220   \n",
              "2     TYK2    GP              random-ucb   750  0.583870  0.831832   0.018704   \n",
              "3     Mpro    GP          random-exploit   750  0.165938  0.585960   0.012866   \n",
              "4     Mpro    GP  random-explore-exploit   750  0.388470  0.666784   0.017319   \n",
              "5     Mpro    GP              random-ucb   750  0.890810  0.915977   0.016771   \n",
              "6      D2R    GP          random-exploit   750  0.274773  0.508514   0.016963   \n",
              "7      D2R    GP  random-explore-exploit   750  0.300723  0.436344   0.015874   \n",
              "8      D2R    GP              random-ucb   750  0.962845  0.947838   0.021245   \n",
              "9     USP7    GP          random-exploit   750  0.781901  0.875584   0.016653   \n",
              "10    USP7    GP  random-explore-exploit   750  0.761055  0.871826   0.016954   \n",
              "11    USP7    GP              random-ucb   750  0.803921  0.879268   0.018186   \n",
              "\n",
              "    Recall_5%   Jaccard  \n",
              "0    0.055330  0.674419  \n",
              "1    0.050367  0.600000  \n",
              "2    0.052591  0.756098  \n",
              "3    0.043797  0.565217  \n",
              "4    0.049349  0.636364  \n",
              "5    0.050312  0.800000  \n",
              "6    0.053527  0.469388  \n",
              "7    0.051085  0.428571  \n",
              "8    0.063734  0.894737  \n",
              "9    0.049454  0.894737  \n",
              "10   0.050930  0.846154  \n",
              "11   0.054253  0.729730  "
            ],
            "text/html": [
              "\n",
              "  <div id=\"df-474e4fe9-8fe6-4620-b1f0-da9412d0ec46\" class=\"colab-df-container\">\n",
              "    <div>\n",
              "<style scoped>\n",
              "    .dataframe tbody tr th:only-of-type {\n",
              "        vertical-align: middle;\n",
              "    }\n",
              "\n",
              "    .dataframe tbody tr th {\n",
              "        vertical-align: top;\n",
              "    }\n",
              "\n",
              "    .dataframe thead th {\n",
              "        text-align: right;\n",
              "    }\n",
              "</style>\n",
              "<table border=\"1\" class=\"dataframe\">\n",
              "  <thead>\n",
              "    <tr style=\"text-align: right;\">\n",
              "      <th></th>\n",
              "      <th>Dataset</th>\n",
              "      <th>Model</th>\n",
              "      <th>Protocol</th>\n",
              "      <th>Seed</th>\n",
              "      <th>R2</th>\n",
              "      <th>Spearman</th>\n",
              "      <th>Recall_2%</th>\n",
              "      <th>Recall_5%</th>\n",
              "      <th>Jaccard</th>\n",
              "    </tr>\n",
              "  </thead>\n",
              "  <tbody>\n",
              "    <tr>\n",
              "      <th>0</th>\n",
              "      <td>TYK2</td>\n",
              "      <td>GP</td>\n",
              "      <td>random-exploit</td>\n",
              "      <td>750</td>\n",
              "      <td>0.634011</td>\n",
              "      <td>0.764744</td>\n",
              "      <td>0.016007</td>\n",
              "      <td>0.055330</td>\n",
              "      <td>0.674419</td>\n",
              "    </tr>\n",
              "    <tr>\n",
              "      <th>1</th>\n",
              "      <td>TYK2</td>\n",
              "      <td>GP</td>\n",
              "      <td>random-explore-exploit</td>\n",
              "      <td>750</td>\n",
              "      <td>0.497197</td>\n",
              "      <td>0.732008</td>\n",
              "      <td>0.017220</td>\n",
              "      <td>0.050367</td>\n",
              "      <td>0.600000</td>\n",
              "    </tr>\n",
              "    <tr>\n",
              "      <th>2</th>\n",
              "      <td>TYK2</td>\n",
              "      <td>GP</td>\n",
              "      <td>random-ucb</td>\n",
              "      <td>750</td>\n",
              "      <td>0.583870</td>\n",
              "      <td>0.831832</td>\n",
              "      <td>0.018704</td>\n",
              "      <td>0.052591</td>\n",
              "      <td>0.756098</td>\n",
              "    </tr>\n",
              "    <tr>\n",
              "      <th>3</th>\n",
              "      <td>Mpro</td>\n",
              "      <td>GP</td>\n",
              "      <td>random-exploit</td>\n",
              "      <td>750</td>\n",
              "      <td>0.165938</td>\n",
              "      <td>0.585960</td>\n",
              "      <td>0.012866</td>\n",
              "      <td>0.043797</td>\n",
              "      <td>0.565217</td>\n",
              "    </tr>\n",
              "    <tr>\n",
              "      <th>4</th>\n",
              "      <td>Mpro</td>\n",
              "      <td>GP</td>\n",
              "      <td>random-explore-exploit</td>\n",
              "      <td>750</td>\n",
              "      <td>0.388470</td>\n",
              "      <td>0.666784</td>\n",
              "      <td>0.017319</td>\n",
              "      <td>0.049349</td>\n",
              "      <td>0.636364</td>\n",
              "    </tr>\n",
              "    <tr>\n",
              "      <th>5</th>\n",
              "      <td>Mpro</td>\n",
              "      <td>GP</td>\n",
              "      <td>random-ucb</td>\n",
              "      <td>750</td>\n",
              "      <td>0.890810</td>\n",
              "      <td>0.915977</td>\n",
              "      <td>0.016771</td>\n",
              "      <td>0.050312</td>\n",
              "      <td>0.800000</td>\n",
              "    </tr>\n",
              "    <tr>\n",
              "      <th>6</th>\n",
              "      <td>D2R</td>\n",
              "      <td>GP</td>\n",
              "      <td>random-exploit</td>\n",
              "      <td>750</td>\n",
              "      <td>0.274773</td>\n",
              "      <td>0.508514</td>\n",
              "      <td>0.016963</td>\n",
              "      <td>0.053527</td>\n",
              "      <td>0.469388</td>\n",
              "    </tr>\n",
              "    <tr>\n",
              "      <th>7</th>\n",
              "      <td>D2R</td>\n",
              "      <td>GP</td>\n",
              "      <td>random-explore-exploit</td>\n",
              "      <td>750</td>\n",
              "      <td>0.300723</td>\n",
              "      <td>0.436344</td>\n",
              "      <td>0.015874</td>\n",
              "      <td>0.051085</td>\n",
              "      <td>0.428571</td>\n",
              "    </tr>\n",
              "    <tr>\n",
              "      <th>8</th>\n",
              "      <td>D2R</td>\n",
              "      <td>GP</td>\n",
              "      <td>random-ucb</td>\n",
              "      <td>750</td>\n",
              "      <td>0.962845</td>\n",
              "      <td>0.947838</td>\n",
              "      <td>0.021245</td>\n",
              "      <td>0.063734</td>\n",
              "      <td>0.894737</td>\n",
              "    </tr>\n",
              "    <tr>\n",
              "      <th>9</th>\n",
              "      <td>USP7</td>\n",
              "      <td>GP</td>\n",
              "      <td>random-exploit</td>\n",
              "      <td>750</td>\n",
              "      <td>0.781901</td>\n",
              "      <td>0.875584</td>\n",
              "      <td>0.016653</td>\n",
              "      <td>0.049454</td>\n",
              "      <td>0.894737</td>\n",
              "    </tr>\n",
              "    <tr>\n",
              "      <th>10</th>\n",
              "      <td>USP7</td>\n",
              "      <td>GP</td>\n",
              "      <td>random-explore-exploit</td>\n",
              "      <td>750</td>\n",
              "      <td>0.761055</td>\n",
              "      <td>0.871826</td>\n",
              "      <td>0.016954</td>\n",
              "      <td>0.050930</td>\n",
              "      <td>0.846154</td>\n",
              "    </tr>\n",
              "    <tr>\n",
              "      <th>11</th>\n",
              "      <td>USP7</td>\n",
              "      <td>GP</td>\n",
              "      <td>random-ucb</td>\n",
              "      <td>750</td>\n",
              "      <td>0.803921</td>\n",
              "      <td>0.879268</td>\n",
              "      <td>0.018186</td>\n",
              "      <td>0.054253</td>\n",
              "      <td>0.729730</td>\n",
              "    </tr>\n",
              "  </tbody>\n",
              "</table>\n",
              "</div>\n",
              "    <div class=\"colab-df-buttons\">\n",
              "\n",
              "  <div class=\"colab-df-container\">\n",
              "    <button class=\"colab-df-convert\" onclick=\"convertToInteractive('df-474e4fe9-8fe6-4620-b1f0-da9412d0ec46')\"\n",
              "            title=\"Convert this dataframe to an interactive table.\"\n",
              "            style=\"display:none;\">\n",
              "\n",
              "  <svg xmlns=\"http://www.w3.org/2000/svg\" height=\"24px\" viewBox=\"0 -960 960 960\">\n",
              "    <path d=\"M120-120v-720h720v720H120Zm60-500h600v-160H180v160Zm220 220h160v-160H400v160Zm0 220h160v-160H400v160ZM180-400h160v-160H180v160Zm440 0h160v-160H620v160ZM180-180h160v-160H180v160Zm440 0h160v-160H620v160Z\"/>\n",
              "  </svg>\n",
              "    </button>\n",
              "\n",
              "  <style>\n",
              "    .colab-df-container {\n",
              "      display:flex;\n",
              "      gap: 12px;\n",
              "    }\n",
              "\n",
              "    .colab-df-convert {\n",
              "      background-color: #E8F0FE;\n",
              "      border: none;\n",
              "      border-radius: 50%;\n",
              "      cursor: pointer;\n",
              "      display: none;\n",
              "      fill: #1967D2;\n",
              "      height: 32px;\n",
              "      padding: 0 0 0 0;\n",
              "      width: 32px;\n",
              "    }\n",
              "\n",
              "    .colab-df-convert:hover {\n",
              "      background-color: #E2EBFA;\n",
              "      box-shadow: 0px 1px 2px rgba(60, 64, 67, 0.3), 0px 1px 3px 1px rgba(60, 64, 67, 0.15);\n",
              "      fill: #174EA6;\n",
              "    }\n",
              "\n",
              "    .colab-df-buttons div {\n",
              "      margin-bottom: 4px;\n",
              "    }\n",
              "\n",
              "    [theme=dark] .colab-df-convert {\n",
              "      background-color: #3B4455;\n",
              "      fill: #D2E3FC;\n",
              "    }\n",
              "\n",
              "    [theme=dark] .colab-df-convert:hover {\n",
              "      background-color: #434B5C;\n",
              "      box-shadow: 0px 1px 3px 1px rgba(0, 0, 0, 0.15);\n",
              "      filter: drop-shadow(0px 1px 2px rgba(0, 0, 0, 0.3));\n",
              "      fill: #FFFFFF;\n",
              "    }\n",
              "  </style>\n",
              "\n",
              "    <script>\n",
              "      const buttonEl =\n",
              "        document.querySelector('#df-474e4fe9-8fe6-4620-b1f0-da9412d0ec46 button.colab-df-convert');\n",
              "      buttonEl.style.display =\n",
              "        google.colab.kernel.accessAllowed ? 'block' : 'none';\n",
              "\n",
              "      async function convertToInteractive(key) {\n",
              "        const element = document.querySelector('#df-474e4fe9-8fe6-4620-b1f0-da9412d0ec46');\n",
              "        const dataTable =\n",
              "          await google.colab.kernel.invokeFunction('convertToInteractive',\n",
              "                                                    [key], {});\n",
              "        if (!dataTable) return;\n",
              "\n",
              "        const docLinkHtml = 'Like what you see? Visit the ' +\n",
              "          '<a target=\"_blank\" href=https://colab.research.google.com/notebooks/data_table.ipynb>data table notebook</a>'\n",
              "          + ' to learn more about interactive tables.';\n",
              "        element.innerHTML = '';\n",
              "        dataTable['output_type'] = 'display_data';\n",
              "        await google.colab.output.renderOutput(dataTable, element);\n",
              "        const docLink = document.createElement('div');\n",
              "        docLink.innerHTML = docLinkHtml;\n",
              "        element.appendChild(docLink);\n",
              "      }\n",
              "    </script>\n",
              "  </div>\n",
              "\n",
              "\n",
              "<div id=\"df-84033d60-8273-4fa9-81fe-83280a3d103f\">\n",
              "  <button class=\"colab-df-quickchart\" onclick=\"quickchart('df-84033d60-8273-4fa9-81fe-83280a3d103f')\"\n",
              "            title=\"Suggest charts\"\n",
              "            style=\"display:none;\">\n",
              "\n",
              "<svg xmlns=\"http://www.w3.org/2000/svg\" height=\"24px\"viewBox=\"0 0 24 24\"\n",
              "     width=\"24px\">\n",
              "    <g>\n",
              "        <path d=\"M19 3H5c-1.1 0-2 .9-2 2v14c0 1.1.9 2 2 2h14c1.1 0 2-.9 2-2V5c0-1.1-.9-2-2-2zM9 17H7v-7h2v7zm4 0h-2V7h2v10zm4 0h-2v-4h2v4z\"/>\n",
              "    </g>\n",
              "</svg>\n",
              "  </button>\n",
              "\n",
              "<style>\n",
              "  .colab-df-quickchart {\n",
              "      --bg-color: #E8F0FE;\n",
              "      --fill-color: #1967D2;\n",
              "      --hover-bg-color: #E2EBFA;\n",
              "      --hover-fill-color: #174EA6;\n",
              "      --disabled-fill-color: #AAA;\n",
              "      --disabled-bg-color: #DDD;\n",
              "  }\n",
              "\n",
              "  [theme=dark] .colab-df-quickchart {\n",
              "      --bg-color: #3B4455;\n",
              "      --fill-color: #D2E3FC;\n",
              "      --hover-bg-color: #434B5C;\n",
              "      --hover-fill-color: #FFFFFF;\n",
              "      --disabled-bg-color: #3B4455;\n",
              "      --disabled-fill-color: #666;\n",
              "  }\n",
              "\n",
              "  .colab-df-quickchart {\n",
              "    background-color: var(--bg-color);\n",
              "    border: none;\n",
              "    border-radius: 50%;\n",
              "    cursor: pointer;\n",
              "    display: none;\n",
              "    fill: var(--fill-color);\n",
              "    height: 32px;\n",
              "    padding: 0;\n",
              "    width: 32px;\n",
              "  }\n",
              "\n",
              "  .colab-df-quickchart:hover {\n",
              "    background-color: var(--hover-bg-color);\n",
              "    box-shadow: 0 1px 2px rgba(60, 64, 67, 0.3), 0 1px 3px 1px rgba(60, 64, 67, 0.15);\n",
              "    fill: var(--button-hover-fill-color);\n",
              "  }\n",
              "\n",
              "  .colab-df-quickchart-complete:disabled,\n",
              "  .colab-df-quickchart-complete:disabled:hover {\n",
              "    background-color: var(--disabled-bg-color);\n",
              "    fill: var(--disabled-fill-color);\n",
              "    box-shadow: none;\n",
              "  }\n",
              "\n",
              "  .colab-df-spinner {\n",
              "    border: 2px solid var(--fill-color);\n",
              "    border-color: transparent;\n",
              "    border-bottom-color: var(--fill-color);\n",
              "    animation:\n",
              "      spin 1s steps(1) infinite;\n",
              "  }\n",
              "\n",
              "  @keyframes spin {\n",
              "    0% {\n",
              "      border-color: transparent;\n",
              "      border-bottom-color: var(--fill-color);\n",
              "      border-left-color: var(--fill-color);\n",
              "    }\n",
              "    20% {\n",
              "      border-color: transparent;\n",
              "      border-left-color: var(--fill-color);\n",
              "      border-top-color: var(--fill-color);\n",
              "    }\n",
              "    30% {\n",
              "      border-color: transparent;\n",
              "      border-left-color: var(--fill-color);\n",
              "      border-top-color: var(--fill-color);\n",
              "      border-right-color: var(--fill-color);\n",
              "    }\n",
              "    40% {\n",
              "      border-color: transparent;\n",
              "      border-right-color: var(--fill-color);\n",
              "      border-top-color: var(--fill-color);\n",
              "    }\n",
              "    60% {\n",
              "      border-color: transparent;\n",
              "      border-right-color: var(--fill-color);\n",
              "    }\n",
              "    80% {\n",
              "      border-color: transparent;\n",
              "      border-right-color: var(--fill-color);\n",
              "      border-bottom-color: var(--fill-color);\n",
              "    }\n",
              "    90% {\n",
              "      border-color: transparent;\n",
              "      border-bottom-color: var(--fill-color);\n",
              "    }\n",
              "  }\n",
              "</style>\n",
              "\n",
              "  <script>\n",
              "    async function quickchart(key) {\n",
              "      const quickchartButtonEl =\n",
              "        document.querySelector('#' + key + ' button');\n",
              "      quickchartButtonEl.disabled = true;  // To prevent multiple clicks.\n",
              "      quickchartButtonEl.classList.add('colab-df-spinner');\n",
              "      try {\n",
              "        const charts = await google.colab.kernel.invokeFunction(\n",
              "            'suggestCharts', [key], {});\n",
              "      } catch (error) {\n",
              "        console.error('Error during call to suggestCharts:', error);\n",
              "      }\n",
              "      quickchartButtonEl.classList.remove('colab-df-spinner');\n",
              "      quickchartButtonEl.classList.add('colab-df-quickchart-complete');\n",
              "    }\n",
              "    (() => {\n",
              "      let quickchartButtonEl =\n",
              "        document.querySelector('#df-84033d60-8273-4fa9-81fe-83280a3d103f button');\n",
              "      quickchartButtonEl.style.display =\n",
              "        google.colab.kernel.accessAllowed ? 'block' : 'none';\n",
              "    })();\n",
              "  </script>\n",
              "</div>\n",
              "    </div>\n",
              "  </div>\n"
            ],
            "application/vnd.google.colaboratory.intrinsic+json": {
              "type": "dataframe",
              "variable_name": "df",
              "summary": "{\n  \"name\": \"df\",\n  \"rows\": 12,\n  \"fields\": [\n    {\n      \"column\": \"Dataset\",\n      \"properties\": {\n        \"dtype\": \"category\",\n        \"num_unique_values\": 4,\n        \"samples\": [\n          \"Mpro\",\n          \"USP7\",\n          \"TYK2\"\n        ],\n        \"semantic_type\": \"\",\n        \"description\": \"\"\n      }\n    },\n    {\n      \"column\": \"Model\",\n      \"properties\": {\n        \"dtype\": \"category\",\n        \"num_unique_values\": 1,\n        \"samples\": [\n          \"GP\"\n        ],\n        \"semantic_type\": \"\",\n        \"description\": \"\"\n      }\n    },\n    {\n      \"column\": \"Protocol\",\n      \"properties\": {\n        \"dtype\": \"category\",\n        \"num_unique_values\": 3,\n        \"samples\": [\n          \"random-exploit\"\n        ],\n        \"semantic_type\": \"\",\n        \"description\": \"\"\n      }\n    },\n    {\n      \"column\": \"Seed\",\n      \"properties\": {\n        \"dtype\": \"number\",\n        \"std\": 0,\n        \"min\": 750,\n        \"max\": 750,\n        \"num_unique_values\": 1,\n        \"samples\": [\n          750\n        ],\n        \"semantic_type\": \"\",\n        \"description\": \"\"\n      }\n    },\n    {\n      \"column\": \"R2\",\n      \"properties\": {\n        \"dtype\": \"number\",\n        \"std\": 0.2620424086615018,\n        \"min\": 0.1659376237612463,\n        \"max\": 0.9628450937518446,\n        \"num_unique_values\": 12,\n        \"samples\": [\n          0.7610547486199671\n        ],\n        \"semantic_type\": \"\",\n        \"description\": \"\"\n      }\n    },\n    {\n      \"column\": \"Spearman\",\n      \"properties\": {\n        \"dtype\": \"number\",\n        \"std\": 0.1683490271127709,\n        \"min\": 0.4363443418979322,\n        \"max\": 0.9478376364358077,\n        \"num_unique_values\": 12,\n        \"samples\": [\n          0.8718261326194864\n        ],\n        \"semantic_type\": \"\",\n        \"description\": \"\"\n      }\n    },\n    {\n      \"column\": \"Recall_2%\",\n      \"properties\": {\n        \"dtype\": \"number\",\n        \"std\": 0.0019528437163622478,\n        \"min\": 0.012866205,\n        \"max\": 0.021244833,\n        \"num_unique_values\": 12,\n        \"samples\": [\n          0.016953759\n        ],\n        \"semantic_type\": \"\",\n        \"description\": \"\"\n      }\n    },\n    {\n      \"column\": \"Recall_5%\",\n      \"properties\": {\n        \"dtype\": \"number\",\n        \"std\": 0.004717419813314831,\n        \"min\": 0.043796845,\n        \"max\": 0.0637345,\n        \"num_unique_values\": 12,\n        \"samples\": [\n          0.05092992\n        ],\n        \"semantic_type\": \"\",\n        \"description\": \"\"\n      }\n    },\n    {\n      \"column\": \"Jaccard\",\n      \"properties\": {\n        \"dtype\": \"number\",\n        \"std\": 0.15668466094093975,\n        \"min\": 0.4285714285714285,\n        \"max\": 0.8947368421052632,\n        \"num_unique_values\": 11,\n        \"samples\": [\n          0.8\n        ],\n        \"semantic_type\": \"\",\n        \"description\": \"\"\n      }\n    }\n  ]\n}"
            }
          },
          "metadata": {},
          "execution_count": 24
        }
      ]
    }
  ]
}